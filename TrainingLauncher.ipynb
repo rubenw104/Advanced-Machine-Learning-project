{
  "cells": [
    {
      "cell_type": "markdown",
      "metadata": {
        "id": "O65EaNA3KWoA"
      },
      "source": [
        "#Training Launcher"
      ]
    },
    {
      "cell_type": "markdown",
      "metadata": {
        "id": "7VH1sz0vKD2K"
      },
      "source": [
        "###Import"
      ]
    },
    {
      "cell_type": "code",
      "execution_count": 1,
      "metadata": {
        "id": "CAjEhUFVuOe8"
      },
      "outputs": [],
      "source": [
        "!pip install ood-metrics\n",
        "from IPython.display import clear_output\n",
        "clear_output()"
      ]
    },
    {
      "cell_type": "markdown",
      "metadata": {
        "id": "nzz3LaeThU-V"
      },
      "source": [
        "###Training"
      ]
    },
    {
      "cell_type": "code",
      "execution_count": 2,
      "metadata": {
        "colab": {
          "base_uri": "https://localhost:8080/"
        },
        "id": "f2BMA-2qazYR",
        "outputId": "ae6fe870-18ce-4b49-99a0-189b5b22d988"
      },
      "outputs": [
        {
          "output_type": "stream",
          "name": "stdout",
          "text": [
            "Done\n"
          ]
        }
      ],
      "source": [
        "!pip install opendatasets --upgrade\n",
        "!pip install segmentation-models-pytorch --upgrade\n",
        "!pip install torchmetrics --upgrade\n",
        "!pip install albumentations --upgrade\n",
        "!pip install loguru --upgrade\n",
        "!pip install tqdm --upgrade\n",
        "clear_output()\n",
        "print(\"Done\")"
      ]
    },
    {
      "cell_type": "code",
      "execution_count": 4,
      "metadata": {
        "id": "XCnqSbUra1Vg",
        "colab": {
          "base_uri": "https://localhost:8080/"
        },
        "outputId": "f651f89b-10e0-4a9c-a03a-f647339de442"
      },
      "outputs": [
        {
          "output_type": "stream",
          "name": "stdout",
          "text": [
            "Please provide your Kaggle credentials to download this dataset. Learn more: http://bit.ly/kaggle-creds\n",
            "Your Kaggle username: raffaelepane\n",
            "Your Kaggle Key: ··········\n",
            "Downloading cityscapes.zip to ./cityscapes\n"
          ]
        },
        {
          "output_type": "stream",
          "name": "stderr",
          "text": [
            "100%|██████████| 11.0G/11.0G [06:36<00:00, 29.9MB/s]\n"
          ]
        },
        {
          "output_type": "stream",
          "name": "stdout",
          "text": [
            "\n"
          ]
        }
      ],
      "source": [
        "import opendatasets as od\n",
        "dataset_url = 'https://www.kaggle.com/kavithak1388/cityscapes'\n",
        "od.download(dataset_url)"
      ]
    },
    {
      "cell_type": "code",
      "execution_count": 3,
      "metadata": {
        "id": "D_OWqlX-hdYt",
        "colab": {
          "base_uri": "https://localhost:8080/"
        },
        "outputId": "44e9a699-1809-4724-b2d0-6bcfad167a4e"
      },
      "outputs": [
        {
          "output_type": "stream",
          "name": "stdout",
          "text": [
            "Cloning into 'Advanced-Machine-Learning-Project'...\n",
            "remote: Enumerating objects: 978, done.\u001b[K\n",
            "remote: Counting objects: 100% (217/217), done.\u001b[K\n",
            "remote: Compressing objects: 100% (146/146), done.\u001b[K\n",
            "remote: Total 978 (delta 144), reused 129 (delta 71), pack-reused 761\u001b[K\n",
            "Receiving objects: 100% (978/978), 362.06 MiB | 16.42 MiB/s, done.\n",
            "Resolving deltas: 100% (279/279), done.\n",
            "Updating files: 100% (568/568), done.\n"
          ]
        }
      ],
      "source": [
        "!git clone \"https://github.com/bred91/Advanced-Machine-Learning-Project.git\""
      ]
    },
    {
      "cell_type": "markdown",
      "metadata": {
        "id": "WAi0J33K7xjQ"
      },
      "source": [
        "Train"
      ]
    },
    {
      "cell_type": "code",
      "execution_count": null,
      "metadata": {
        "id": "83GX9Fdr6jnP"
      },
      "outputs": [],
      "source": [
        "import torch\n",
        "torch.cuda.empty_cache()"
      ]
    },
    {
      "cell_type": "code",
      "execution_count": 5,
      "metadata": {
        "id": "hGNc8KYjmTcC",
        "colab": {
          "base_uri": "https://localhost:8080/"
        },
        "outputId": "29b44c2e-98af-46f9-bc79-2cb5c064e680"
      },
      "outputs": [
        {
          "metadata": {
            "tags": null
          },
          "name": "stderr",
          "output_type": "stream",
          "text": [
            "[2024-02-14 13:43] [!] Train from scratch\n",
            "[2024-02-14 13:43] \n",
            "\n",
            "\n",
            "######################### Config Informations #########################\n",
            "dataset: cityscapes\n",
            "num_class: 19\n",
            "model: erfnet\n",
            "encoder: None\n",
            "decoder: None\n",
            "loss_type: jl\n",
            "optimizer_type: adam\n",
            "lr_policy: cos_warmup\n",
            "total_epoch: 30\n",
            "train_bs: 8\n",
            "val_bs: 10\n",
            "train_num: 2968\n",
            "val_num: 500\n",
            "gpu_num: 1\n",
            "num_workers: 8\n",
            "amp_training: False\n",
            "DDP: False\n",
            "kd_training: False\n",
            "synBN: True\n",
            "use_ema: False\n",
            "use_aux: False\n",
            "#######################################################################\n",
            "\n",
            "\n"
          ]
        },
        {
          "metadata": {
            "tags": null
          },
          "name": "stdout",
          "output_type": "stream",
          "text": [
            "Jaccard Loss\n"
          ]
        },
        {
          "output_type": "stream",
          "name": "stderr",
          "text": [
            "Epoch:0/30    |Loss:0.9598    |: 100%|██████████| 371/371 [05:56<00:00,  1.04it/s]\n",
            "Validating:    |: 100%|██████████| 50/50 [01:29<00:00,  1.78s/it]\n",
            "[2024-02-14 13:51]  Epoch0 mIoU: 0.0504    | best mIoU so far: 0.0000\n",
            "\n",
            "Epoch:1/30    |Loss:0.9438    |: 100%|██████████| 371/371 [05:54<00:00,  1.05it/s]\n",
            "Validating:    |: 100%|██████████| 50/50 [01:29<00:00,  1.80s/it]\n",
            "[2024-02-14 13:58]  Epoch1 mIoU: 0.0526    | best mIoU so far: 0.0504\n",
            "\n",
            "Epoch:2/30    |Loss:0.8428    |: 100%|██████████| 371/371 [05:50<00:00,  1.06it/s]\n",
            "Validating:    |: 100%|██████████| 50/50 [01:28<00:00,  1.77s/it]\n",
            "[2024-02-14 14:05]  Epoch2 mIoU: 0.0500    | best mIoU so far: 0.0526\n",
            "\n",
            "Epoch:3/30    |Loss:0.8525    |: 100%|██████████| 371/371 [05:54<00:00,  1.05it/s]\n",
            "Validating:    |: 100%|██████████| 50/50 [01:27<00:00,  1.75s/it]\n",
            "[2024-02-14 14:13]  Epoch3 mIoU: 0.0562    | best mIoU so far: 0.0526\n",
            "\n",
            "Epoch:4/30    |Loss:0.8452    |: 100%|██████████| 371/371 [05:50<00:00,  1.06it/s]\n",
            "Validating:    |: 100%|██████████| 50/50 [01:30<00:00,  1.81s/it]\n",
            "[2024-02-14 14:20]  Epoch4 mIoU: 0.0555    | best mIoU so far: 0.0562\n",
            "\n",
            "Epoch:5/30    |Loss:0.91    |: 100%|██████████| 371/371 [06:06<00:00,  1.01it/s]\n",
            "Validating:    |: 100%|██████████| 50/50 [01:30<00:00,  1.81s/it]\n",
            "[2024-02-14 14:28]  Epoch5 mIoU: 0.0570    | best mIoU so far: 0.0562\n",
            "\n",
            "Epoch:6/30    |Loss:0.7989    |: 100%|██████████| 371/371 [06:24<00:00,  1.04s/it]\n",
            "Validating:    |: 100%|██████████| 50/50 [01:39<00:00,  2.00s/it]\n",
            "[2024-02-14 14:36]  Epoch6 mIoU: 0.0449    | best mIoU so far: 0.0570\n",
            "\n",
            "Epoch:7/30    |Loss:0.7419    |: 100%|██████████| 371/371 [06:45<00:00,  1.09s/it]\n",
            "Validating:    |: 100%|██████████| 50/50 [01:38<00:00,  1.97s/it]\n",
            "[2024-02-14 14:44]  Epoch7 mIoU: 0.0512    | best mIoU so far: 0.0570\n",
            "\n",
            "Epoch:8/30    |Loss:0.7683    |: 100%|██████████| 371/371 [06:45<00:00,  1.09s/it]\n",
            "Validating:    |: 100%|██████████| 50/50 [01:40<00:00,  2.00s/it]\n",
            "[2024-02-14 14:53]  Epoch8 mIoU: 0.0582    | best mIoU so far: 0.0570\n",
            "\n",
            "Epoch:9/30    |Loss:0.8367    |: 100%|██████████| 371/371 [06:45<00:00,  1.09s/it]\n",
            "Validating:    |: 100%|██████████| 50/50 [01:38<00:00,  1.97s/it]\n",
            "[2024-02-14 15:01]  Epoch9 mIoU: 0.0549    | best mIoU so far: 0.0582\n",
            "\n",
            "Epoch:10/30    |Loss:0.706    |: 100%|██████████| 371/371 [06:47<00:00,  1.10s/it]\n",
            "Validating:    |: 100%|██████████| 50/50 [01:39<00:00,  1.99s/it]\n",
            "[2024-02-14 15:09]  Epoch10 mIoU: 0.0605    | best mIoU so far: 0.0582\n",
            "\n",
            "Epoch:11/30    |Loss:0.7649    |: 100%|██████████| 371/371 [06:48<00:00,  1.10s/it]\n",
            "Validating:    |: 100%|██████████| 50/50 [01:38<00:00,  1.97s/it]\n",
            "[2024-02-14 15:18]  Epoch11 mIoU: 0.0634    | best mIoU so far: 0.0605\n",
            "\n",
            "Epoch:12/30    |Loss:0.8466    |: 100%|██████████| 371/371 [06:48<00:00,  1.10s/it]\n",
            "Validating:    |: 100%|██████████| 50/50 [01:39<00:00,  2.00s/it]\n",
            "[2024-02-14 15:26]  Epoch12 mIoU: 0.0614    | best mIoU so far: 0.0634\n",
            "\n",
            "Epoch:13/30    |Loss:0.6146    |: 100%|██████████| 371/371 [06:44<00:00,  1.09s/it]\n",
            "Validating:    |: 100%|██████████| 50/50 [01:38<00:00,  1.97s/it]\n",
            "[2024-02-14 15:35]  Epoch13 mIoU: 0.0527    | best mIoU so far: 0.0634\n",
            "\n",
            "Epoch:14/30    |Loss:0.6554    |: 100%|██████████| 371/371 [06:46<00:00,  1.10s/it]\n",
            "Validating:    |: 100%|██████████| 50/50 [01:37<00:00,  1.95s/it]\n",
            "[2024-02-14 15:43]  Epoch14 mIoU: 0.0570    | best mIoU so far: 0.0634\n",
            "\n",
            "Epoch:15/30    |Loss:0.6387    |: 100%|██████████| 371/371 [06:43<00:00,  1.09s/it]\n",
            "Validating:    |: 100%|██████████| 50/50 [01:39<00:00,  1.99s/it]\n",
            "[2024-02-14 15:52]  Epoch15 mIoU: 0.0539    | best mIoU so far: 0.0634\n",
            "\n",
            "Epoch:16/30    |Loss:0.8535    |: 100%|██████████| 371/371 [06:47<00:00,  1.10s/it]\n",
            "Validating:    |: 100%|██████████| 50/50 [01:39<00:00,  1.98s/it]\n",
            "[2024-02-14 16:00]  Epoch16 mIoU: 0.0539    | best mIoU so far: 0.0634\n",
            "\n",
            "Epoch:17/30    |Loss:0.666    |: 100%|██████████| 371/371 [06:45<00:00,  1.09s/it]\n",
            "Validating:    |: 100%|██████████| 50/50 [01:39<00:00,  1.99s/it]\n",
            "[2024-02-14 16:08]  Epoch17 mIoU: 0.0603    | best mIoU so far: 0.0634\n",
            "\n",
            "Epoch:18/30    |Loss:0.6624    |: 100%|██████████| 371/371 [06:18<00:00,  1.02s/it]\n",
            "Validating:    |: 100%|██████████| 50/50 [01:28<00:00,  1.78s/it]\n",
            "[2024-02-14 16:16]  Epoch18 mIoU: 0.0625    | best mIoU so far: 0.0634\n",
            "\n",
            "Epoch:19/30    |Loss:0.6621    |: 100%|██████████| 371/371 [06:30<00:00,  1.05s/it]\n",
            "Validating:    |: 100%|██████████| 50/50 [01:37<00:00,  1.95s/it]\n",
            "[2024-02-14 16:24]  Epoch19 mIoU: 0.0584    | best mIoU so far: 0.0634\n",
            "\n",
            "Epoch:20/30    |Loss:0.6953    |: 100%|██████████| 371/371 [06:40<00:00,  1.08s/it]\n",
            "Validating:    |: 100%|██████████| 50/50 [01:39<00:00,  1.98s/it]\n",
            "[2024-02-14 16:33]  Epoch20 mIoU: 0.0569    | best mIoU so far: 0.0634\n",
            "\n",
            "Epoch:21/30    |Loss:0.6626    |: 100%|██████████| 371/371 [06:51<00:00,  1.11s/it]\n",
            "Validating:    |: 100%|██████████| 50/50 [01:39<00:00,  2.00s/it]\n",
            "[2024-02-14 16:41]  Epoch21 mIoU: 0.0605    | best mIoU so far: 0.0634\n",
            "\n",
            "Epoch:22/30    |Loss:0.6105    |: 100%|██████████| 371/371 [06:49<00:00,  1.10s/it]\n",
            "Validating:    |: 100%|██████████| 50/50 [01:40<00:00,  2.02s/it]\n",
            "[2024-02-14 16:50]  Epoch22 mIoU: 0.0544    | best mIoU so far: 0.0634\n",
            "\n",
            "Epoch:23/30    |Loss:0.6769    |: 100%|██████████| 371/371 [06:47<00:00,  1.10s/it]\n",
            "Validating:    |: 100%|██████████| 50/50 [01:40<00:00,  2.00s/it]\n",
            "[2024-02-14 16:58]  Epoch23 mIoU: 0.0528    | best mIoU so far: 0.0634\n",
            "\n",
            "Epoch:24/30    |Loss:0.5746    |: 100%|██████████| 371/371 [06:47<00:00,  1.10s/it]\n",
            "Validating:    |: 100%|██████████| 50/50 [01:38<00:00,  1.97s/it]\n",
            "[2024-02-14 17:07]  Epoch24 mIoU: 0.0522    | best mIoU so far: 0.0634\n",
            "\n",
            "Epoch:25/30    |Loss:0.6016    |: 100%|██████████| 371/371 [06:43<00:00,  1.09s/it]\n",
            "Validating:    |: 100%|██████████| 50/50 [01:39<00:00,  1.99s/it]\n",
            "[2024-02-14 17:15]  Epoch25 mIoU: 0.0536    | best mIoU so far: 0.0634\n",
            "\n",
            "Epoch:26/30    |Loss:0.7234    |: 100%|██████████| 371/371 [06:49<00:00,  1.10s/it]\n",
            "Validating:    |: 100%|██████████| 50/50 [01:39<00:00,  2.00s/it]\n",
            "[2024-02-14 17:23]  Epoch26 mIoU: 0.0516    | best mIoU so far: 0.0634\n",
            "\n",
            "Epoch:27/30    |Loss:0.826    |: 100%|██████████| 371/371 [06:51<00:00,  1.11s/it]\n",
            "Validating:    |: 100%|██████████| 50/50 [01:40<00:00,  2.01s/it]\n",
            "[2024-02-14 17:32]  Epoch27 mIoU: 0.0522    | best mIoU so far: 0.0634\n",
            "\n",
            "Epoch:28/30    |Loss:0.5865    |: 100%|██████████| 371/371 [06:48<00:00,  1.10s/it]\n",
            "Validating:    |: 100%|██████████| 50/50 [01:38<00:00,  1.97s/it]\n",
            "[2024-02-14 17:40]  Epoch28 mIoU: 0.0523    | best mIoU so far: 0.0634\n",
            "\n",
            "Epoch:29/30    |Loss:0.7631    |: 100%|██████████| 371/371 [06:44<00:00,  1.09s/it]\n",
            "Validating:    |: 100%|██████████| 50/50 [01:38<00:00,  1.97s/it]\n",
            "[2024-02-14 17:49]  Epoch29 mIoU: 0.0527    | best mIoU so far: 0.0634\n",
            "\n",
            "[2024-02-14 17:49] \n",
            "Train 30 epochs finished!\n",
            "\n",
            "[2024-02-14 17:49] ##################################################\n",
            "Validation for the best checkpoint...\n",
            "Validating:    |: 100%|██████████| 50/50 [01:33<00:00,  1.88s/it]\n",
            "[2024-02-14 17:50] \n",
            "\n",
            "Train 30 epochs finished.\n",
            "\n",
            "Best mIoU is: 0.0634\n",
            "\n",
            "[2024-02-14 17:50] Best validation score is 0.06335495412349701.\n",
            "\n"
          ]
        }
      ],
      "source": [
        "%run /content/Advanced-Machine-Learning-Project/training/main.py"
      ]
    },
    {
      "cell_type": "code",
      "execution_count": 6,
      "metadata": {
        "colab": {
          "base_uri": "https://localhost:8080/",
          "height": 17
        },
        "id": "GCoY-P-UlCVL",
        "outputId": "5fcea42b-bcb4-4190-ecdb-9bf52338cfc8"
      },
      "outputs": [
        {
          "output_type": "display_data",
          "data": {
            "text/plain": [
              "<IPython.core.display.Javascript object>"
            ],
            "application/javascript": [
              "\n",
              "    async function download(id, filename, size) {\n",
              "      if (!google.colab.kernel.accessAllowed) {\n",
              "        return;\n",
              "      }\n",
              "      const div = document.createElement('div');\n",
              "      const label = document.createElement('label');\n",
              "      label.textContent = `Downloading \"${filename}\": `;\n",
              "      div.appendChild(label);\n",
              "      const progress = document.createElement('progress');\n",
              "      progress.max = size;\n",
              "      div.appendChild(progress);\n",
              "      document.body.appendChild(div);\n",
              "\n",
              "      const buffers = [];\n",
              "      let downloaded = 0;\n",
              "\n",
              "      const channel = await google.colab.kernel.comms.open(id);\n",
              "      // Send a message to notify the kernel that we're ready.\n",
              "      channel.send({})\n",
              "\n",
              "      for await (const message of channel.messages) {\n",
              "        // Send a message to notify the kernel that we're ready.\n",
              "        channel.send({})\n",
              "        if (message.buffers) {\n",
              "          for (const buffer of message.buffers) {\n",
              "            buffers.push(buffer);\n",
              "            downloaded += buffer.byteLength;\n",
              "            progress.value = downloaded;\n",
              "          }\n",
              "        }\n",
              "      }\n",
              "      const blob = new Blob(buffers, {type: 'application/binary'});\n",
              "      const a = document.createElement('a');\n",
              "      a.href = window.URL.createObjectURL(blob);\n",
              "      a.download = filename;\n",
              "      div.appendChild(a);\n",
              "      a.click();\n",
              "      div.remove();\n",
              "    }\n",
              "  "
            ]
          },
          "metadata": {}
        },
        {
          "output_type": "display_data",
          "data": {
            "text/plain": [
              "<IPython.core.display.Javascript object>"
            ],
            "application/javascript": [
              "download(\"download_2d3f6426-1633-448c-bda5-e11f2c86c761\", \"best.pth\", 8447078)"
            ]
          },
          "metadata": {}
        },
        {
          "output_type": "display_data",
          "data": {
            "text/plain": [
              "<IPython.core.display.Javascript object>"
            ],
            "application/javascript": [
              "\n",
              "    async function download(id, filename, size) {\n",
              "      if (!google.colab.kernel.accessAllowed) {\n",
              "        return;\n",
              "      }\n",
              "      const div = document.createElement('div');\n",
              "      const label = document.createElement('label');\n",
              "      label.textContent = `Downloading \"${filename}\": `;\n",
              "      div.appendChild(label);\n",
              "      const progress = document.createElement('progress');\n",
              "      progress.max = size;\n",
              "      div.appendChild(progress);\n",
              "      document.body.appendChild(div);\n",
              "\n",
              "      const buffers = [];\n",
              "      let downloaded = 0;\n",
              "\n",
              "      const channel = await google.colab.kernel.comms.open(id);\n",
              "      // Send a message to notify the kernel that we're ready.\n",
              "      channel.send({})\n",
              "\n",
              "      for await (const message of channel.messages) {\n",
              "        // Send a message to notify the kernel that we're ready.\n",
              "        channel.send({})\n",
              "        if (message.buffers) {\n",
              "          for (const buffer of message.buffers) {\n",
              "            buffers.push(buffer);\n",
              "            downloaded += buffer.byteLength;\n",
              "            progress.value = downloaded;\n",
              "          }\n",
              "        }\n",
              "      }\n",
              "      const blob = new Blob(buffers, {type: 'application/binary'});\n",
              "      const a = document.createElement('a');\n",
              "      a.href = window.URL.createObjectURL(blob);\n",
              "      a.download = filename;\n",
              "      div.appendChild(a);\n",
              "      a.click();\n",
              "      div.remove();\n",
              "    }\n",
              "  "
            ]
          },
          "metadata": {}
        },
        {
          "output_type": "display_data",
          "data": {
            "text/plain": [
              "<IPython.core.display.Javascript object>"
            ],
            "application/javascript": [
              "download(\"download_375b258e-2715-4705-a14a-c26919ced65c\", \"seg_trainer.log\", 2970)"
            ]
          },
          "metadata": {}
        }
      ],
      "source": [
        "from google.colab import files\n",
        "files.download('save/best.pth')\n",
        "files.download('save/seg_trainer.log')"
      ]
    }
  ],
  "metadata": {
    "accelerator": "GPU",
    "colab": {
      "provenance": [],
      "gpuType": "V100"
    },
    "kernelspec": {
      "display_name": "Python 3",
      "name": "python3"
    },
    "language_info": {
      "name": "python"
    }
  },
  "nbformat": 4,
  "nbformat_minor": 0
}
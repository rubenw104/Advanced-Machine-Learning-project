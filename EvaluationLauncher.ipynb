{
  "cells": [
    {
      "cell_type": "markdown",
      "metadata": {
        "id": "O65EaNA3KWoA"
      },
      "source": [
        "#Evaluation Launcher"
      ]
    },
    {
      "cell_type": "markdown",
      "metadata": {
        "id": "7VH1sz0vKD2K"
      },
      "source": [
        "###Import"
      ]
    },
    {
      "cell_type": "code",
      "execution_count": 1,
      "metadata": {
        "id": "CAjEhUFVuOe8"
      },
      "outputs": [],
      "source": [
        "!pip install ood-metrics\n",
        "from IPython.display import clear_output\n",
        "clear_output()"
      ]
    },
    {
      "cell_type": "markdown",
      "metadata": {
        "id": "yA4FrWqrKGpc"
      },
      "source": [
        "###Loading"
      ]
    },
    {
      "cell_type": "code",
      "execution_count": 21,
      "metadata": {
        "colab": {
          "base_uri": "https://localhost:8080/"
        },
        "id": "iJlRtQDiuIlz",
        "outputId": "2cc21433-0f67-46f8-e5a0-4010f307360e"
      },
      "outputs": [
        {
          "output_type": "stream",
          "name": "stdout",
          "text": [
            "Cloning into 'Advanced-Machine-Learning-Project'...\n",
            "remote: Enumerating objects: 1149, done.\u001b[K\n",
            "remote: Counting objects: 100% (388/388), done.\u001b[K\n",
            "remote: Compressing objects: 100% (184/184), done.\u001b[K\n",
            "remote: Total 1149 (delta 256), reused 315 (delta 204), pack-reused 761\u001b[K\n",
            "Receiving objects: 100% (1149/1149), 421.17 MiB | 24.91 MiB/s, done.\n",
            "Resolving deltas: 100% (391/391), done.\n",
            "Updating files: 100% (577/577), done.\n"
          ]
        }
      ],
      "source": [
        "!git clone \"https://github.com/bred91/Advanced-Machine-Learning-Project.git\""
      ]
    },
    {
      "cell_type": "code",
      "execution_count": 22,
      "metadata": {
        "id": "IlywvhixokKf"
      },
      "outputs": [],
      "source": [
        "import sys,os\n",
        "sys.path.append(\"/content/Advanced-Machine-Learning-Project/\")\n",
        "os.rename(\"/content/Advanced-Machine-Learning-Project/\", \"/content/HamburgerManager/\")\n",
        "import HamburgerManager\n",
        "from HamburgerManager import *"
      ]
    },
    {
      "cell_type": "markdown",
      "source": [
        "Load Cityscapes dataset (needed only for mIoU)"
      ],
      "metadata": {
        "id": "0bl4mDS5Eijn"
      }
    },
    {
      "cell_type": "code",
      "execution_count": 8,
      "metadata": {
        "colab": {
          "base_uri": "https://localhost:8080/"
        },
        "id": "f2BMA-2qazYR",
        "outputId": "48ca68c3-bcb2-4272-c44c-4ba24c059600"
      },
      "outputs": [
        {
          "output_type": "stream",
          "name": "stdout",
          "text": [
            "Done\n"
          ]
        }
      ],
      "source": [
        "!pip install opendatasets --upgrade\n",
        "!pip install segmentation-models-pytorch --upgrade\n",
        "!pip install torchmetrics --upgrade\n",
        "!pip install albumentations --upgrade\n",
        "!pip install loguru --upgrade\n",
        "!pip install tqdm --upgrade\n",
        "!pip install cityscapesscripts\n",
        "clear_output()\n",
        "print(\"Done\")"
      ]
    },
    {
      "cell_type": "code",
      "source": [
        "# These require a lot of time\n",
        "!csDownload leftImg8bit_trainvaltest.zip\n",
        "!csDownload gtFine_trainvaltest.zip"
      ],
      "metadata": {
        "colab": {
          "base_uri": "https://localhost:8080/"
        },
        "id": "TVI93QWg4h2n",
        "outputId": "37e75351-7f40-4915-f351-8cdb62d25cb4"
      },
      "execution_count": 9,
      "outputs": [
        {
          "output_type": "stream",
          "name": "stdout",
          "text": [
            "Cityscapes username or email address: bred91\n",
            "Cityscapes password: \n",
            "Store credentials unencrypted in '/root/.local/share/cityscapesscripts/credentials.json' [y/N]: y\n",
            "Downloading cityscapes package 'leftImg8bit_trainvaltest.zip' to './leftImg8bit_trainvaltest.zip'\n",
            "Downloading cityscapes package 'gtFine_trainvaltest.zip' to './gtFine_trainvaltest.zip'\n"
          ]
        }
      ]
    },
    {
      "cell_type": "code",
      "source": [
        "!unzip -q 'leftImg8bit_trainvaltest.zip' -d 'cityscapes'\n",
        "!unzip -o -q 'gtFine_trainvaltest.zip' -d 'cityscapes'\n",
        "\n",
        "# conversion\n",
        "!CITYSCAPES_DATASET='cityscapes/' csCreateTrainIdLabelImgs"
      ],
      "metadata": {
        "colab": {
          "base_uri": "https://localhost:8080/"
        },
        "id": "0Ts7mgqT6BF4",
        "outputId": "33a1019e-976e-4017-cc1b-a4f0e6ff7571"
      },
      "execution_count": 10,
      "outputs": [
        {
          "output_type": "stream",
          "name": "stdout",
          "text": [
            "Processing 5000 annotation files\n",
            "Progress: 100.0 % "
          ]
        }
      ]
    },
    {
      "cell_type": "markdown",
      "metadata": {
        "id": "FU18k_ePKOYY"
      },
      "source": [
        "#Evaluation"
      ]
    },
    {
      "cell_type": "markdown",
      "source": [
        "##Task2"
      ],
      "metadata": {
        "id": "1oeZYWf2UABv"
      }
    },
    {
      "cell_type": "code",
      "execution_count": 4,
      "metadata": {
        "colab": {
          "base_uri": "https://localhost:8080/"
        },
        "id": "tTIRDewDoC89",
        "outputId": "a0ad490c-7017-424c-b3a8-8aede0f66bc4"
      },
      "outputs": [
        {
          "output_type": "stream",
          "name": "stdout",
          "text": [
            "Task:  2\n",
            "Method:  MaxEntropy\n",
            "Dataset:  RoadAnomaly21\n",
            "Loading model: /content/HamburgerManager/eval/erfnet_original.py\n",
            "Loading weights: /content/HamburgerManager/trained_models/erfnet_pretrained.pth\n",
            "Model and weights LOADED successfully\n",
            "/content/HamburgerManager/Validation_Dataset/RoadAnomaly21/images/4.png\n",
            "/content/HamburgerManager/Validation_Dataset/RoadAnomaly21/images/5.png\n",
            "/content/HamburgerManager/Validation_Dataset/RoadAnomaly21/images/1.png\n",
            "/content/HamburgerManager/Validation_Dataset/RoadAnomaly21/images/3.png\n",
            "/content/HamburgerManager/Validation_Dataset/RoadAnomaly21/images/6.png\n",
            "/content/HamburgerManager/Validation_Dataset/RoadAnomaly21/images/8.png\n",
            "/content/HamburgerManager/Validation_Dataset/RoadAnomaly21/images/7.png\n",
            "/content/HamburgerManager/Validation_Dataset/RoadAnomaly21/images/0.png\n",
            "/content/HamburgerManager/Validation_Dataset/RoadAnomaly21/images/9.png\n",
            "/content/HamburgerManager/Validation_Dataset/RoadAnomaly21/images/2.png\n",
            "AUPRC score: 14.309850891159066\n",
            "FPR@TPR95: 96.71605001529005\n"
          ]
        }
      ],
      "source": [
        "%run /content/HamburgerManager/eval/evalAnomaly.py --task 2 --model Erfnet --method MaxEntropy --isColab --input /content/HamburgerManager/Validation_Dataset/RoadAnomaly21/images --loadDir /content/HamburgerManager/"
      ]
    },
    {
      "cell_type": "markdown",
      "metadata": {
        "id": "qe5UreVwGxE0"
      },
      "source": [
        "Temperature Scaling"
      ]
    },
    {
      "cell_type": "code",
      "execution_count": 7,
      "metadata": {
        "id": "aNt2Q2O8fmgO",
        "colab": {
          "base_uri": "https://localhost:8080/"
        },
        "outputId": "4299ab82-ea0e-43b1-9246-63aadff43183"
      },
      "outputs": [
        {
          "output_type": "stream",
          "name": "stdout",
          "text": [
            "Task:  2\n",
            "Method:  MSP\n",
            "Dataset:  RoadAnomaly21\n",
            "Temperature scaling with T =  0.005\n",
            "Loading model: /content/HamburgerManager/eval/erfnet_original.py\n",
            "Loading weights: /content/HamburgerManager/trained_models/erfnet_pretrained.pth\n",
            "Model and weights LOADED successfully\n",
            "/content/HamburgerManager/Validation_Dataset/RoadAnomaly21/images/4.png\n",
            "/content/HamburgerManager/Validation_Dataset/RoadAnomaly21/images/5.png\n",
            "/content/HamburgerManager/Validation_Dataset/RoadAnomaly21/images/1.png\n",
            "/content/HamburgerManager/Validation_Dataset/RoadAnomaly21/images/3.png\n",
            "/content/HamburgerManager/Validation_Dataset/RoadAnomaly21/images/6.png\n",
            "/content/HamburgerManager/Validation_Dataset/RoadAnomaly21/images/8.png\n",
            "/content/HamburgerManager/Validation_Dataset/RoadAnomaly21/images/7.png\n",
            "/content/HamburgerManager/Validation_Dataset/RoadAnomaly21/images/0.png\n",
            "/content/HamburgerManager/Validation_Dataset/RoadAnomaly21/images/9.png\n",
            "/content/HamburgerManager/Validation_Dataset/RoadAnomaly21/images/2.png\n",
            "AUPRC score: 14.804214423600518\n",
            "FPR@TPR95: 95.001039783829\n"
          ]
        }
      ],
      "source": [
        "%run /content/HamburgerManager/eval/evalAnomaly.py --task 2 --model Erfnet --method MSP --withT 0.005 --isColab --input /content/HamburgerManager/Validation_Dataset/RoadAnomaly21/images --loadDir /content/HamburgerManager/"
      ]
    },
    {
      "cell_type": "markdown",
      "metadata": {
        "id": "rWZ6vYdWRGSO"
      },
      "source": [
        "mIoU"
      ]
    },
    {
      "cell_type": "code",
      "source": [
        "%run /content/HamburgerManager/eval/eval_iou.py --verbose --model Erfnet --datadir /content/cityscapes --loadDir /content/HamburgerManager/ --loadWeights trained_models/erfnet_pretrained.pth --loadModel eval/erfnet.py --subset val"
      ],
      "metadata": {
        "id": "CW_B70jt1ap0",
        "colab": {
          "base_uri": "https://localhost:8080/"
        },
        "outputId": "7147ccb8-64c1-4a2f-be97-096e05757585"
      },
      "execution_count": null,
      "outputs": [
        {
          "output_type": "stream",
          "name": "stdout",
          "text": [
            "Loading model: /content/HamburgerManager/eval/erfnet.py\n",
            "Loading weights: /content/HamburgerManager/trained_models/erfnet_pretrained.pth\n",
            "Model and weights LOADED successfully\n",
            "/content/cityscapes/leftImg8bit/val /content/cityscapes/gtFine/val\n"
          ]
        },
        {
          "output_type": "stream",
          "name": "stderr",
          "text": [
            "/usr/local/lib/python3.10/dist-packages/torch/utils/data/dataloader.py:557: UserWarning: This DataLoader will create 4 worker processes in total. Our suggested max number of worker in current system is 2, which is smaller than what this DataLoader is going to create. Please be aware that excessive worker creation might get DataLoader running slow or even freeze, lower the worker number to avoid potential slowness/freeze if necessary.\n",
            "  warnings.warn(_create_warning_msg(\n"
          ]
        },
        {
          "output_type": "stream",
          "name": "stdout",
          "text": [
            "0 val/frankfurt/frankfurt_000000_000294_leftImg8bit.png\n",
            "1 val/frankfurt/frankfurt_000000_000576_leftImg8bit.png\n",
            "2 val/frankfurt/frankfurt_000000_001016_leftImg8bit.png\n",
            "3 val/frankfurt/frankfurt_000000_001236_leftImg8bit.png\n",
            "4 val/frankfurt/frankfurt_000000_001751_leftImg8bit.png\n",
            "5 val/frankfurt/frankfurt_000000_002196_leftImg8bit.png\n",
            "6 val/frankfurt/frankfurt_000000_002963_leftImg8bit.png\n",
            "7 val/frankfurt/frankfurt_000000_003025_leftImg8bit.png\n",
            "8 val/frankfurt/frankfurt_000000_003357_leftImg8bit.png\n",
            "9 val/frankfurt/frankfurt_000000_003920_leftImg8bit.png\n",
            "10 val/frankfurt/frankfurt_000000_004617_leftImg8bit.png\n",
            "11 val/frankfurt/frankfurt_000000_005543_leftImg8bit.png\n",
            "12 val/frankfurt/frankfurt_000000_005898_leftImg8bit.png\n",
            "13 val/frankfurt/frankfurt_000000_006589_leftImg8bit.png\n",
            "14 val/frankfurt/frankfurt_000000_007365_leftImg8bit.png\n",
            "15 val/frankfurt/frankfurt_000000_008206_leftImg8bit.png\n",
            "16 val/frankfurt/frankfurt_000000_008451_leftImg8bit.png\n",
            "17 val/frankfurt/frankfurt_000000_009291_leftImg8bit.png\n",
            "18 val/frankfurt/frankfurt_000000_009561_leftImg8bit.png\n",
            "19 val/frankfurt/frankfurt_000000_009688_leftImg8bit.png\n",
            "20 val/frankfurt/frankfurt_000000_009969_leftImg8bit.png\n",
            "21 val/frankfurt/frankfurt_000000_010351_leftImg8bit.png\n",
            "22 val/frankfurt/frankfurt_000000_010763_leftImg8bit.png\n",
            "23 val/frankfurt/frankfurt_000000_011007_leftImg8bit.png\n",
            "24 val/frankfurt/frankfurt_000000_011074_leftImg8bit.png\n",
            "25 val/frankfurt/frankfurt_000000_011461_leftImg8bit.png\n",
            "26 val/frankfurt/frankfurt_000000_011810_leftImg8bit.png\n",
            "27 val/frankfurt/frankfurt_000000_012009_leftImg8bit.png\n",
            "28 val/frankfurt/frankfurt_000000_012121_leftImg8bit.png\n",
            "29 val/frankfurt/frankfurt_000000_012868_leftImg8bit.png\n",
            "30 val/frankfurt/frankfurt_000000_013067_leftImg8bit.png\n",
            "31 val/frankfurt/frankfurt_000000_013240_leftImg8bit.png\n",
            "32 val/frankfurt/frankfurt_000000_013382_leftImg8bit.png\n",
            "33 val/frankfurt/frankfurt_000000_013942_leftImg8bit.png\n",
            "34 val/frankfurt/frankfurt_000000_014480_leftImg8bit.png\n",
            "35 val/frankfurt/frankfurt_000000_015389_leftImg8bit.png\n",
            "36 val/frankfurt/frankfurt_000000_015676_leftImg8bit.png\n",
            "37 val/frankfurt/frankfurt_000000_016005_leftImg8bit.png\n",
            "38 val/frankfurt/frankfurt_000000_016286_leftImg8bit.png\n",
            "39 val/frankfurt/frankfurt_000000_017228_leftImg8bit.png\n",
            "40 val/frankfurt/frankfurt_000000_017476_leftImg8bit.png\n",
            "41 val/frankfurt/frankfurt_000000_018797_leftImg8bit.png\n",
            "42 val/frankfurt/frankfurt_000000_019607_leftImg8bit.png\n",
            "43 val/frankfurt/frankfurt_000000_020215_leftImg8bit.png\n",
            "44 val/frankfurt/frankfurt_000000_020321_leftImg8bit.png\n",
            "45 val/frankfurt/frankfurt_000000_020880_leftImg8bit.png\n",
            "46 val/frankfurt/frankfurt_000000_021667_leftImg8bit.png\n",
            "47 val/frankfurt/frankfurt_000000_021879_leftImg8bit.png\n",
            "48 val/frankfurt/frankfurt_000000_022254_leftImg8bit.png\n",
            "49 val/frankfurt/frankfurt_000000_022797_leftImg8bit.png\n",
            "50 val/frankfurt/frankfurt_000001_000538_leftImg8bit.png\n",
            "51 val/frankfurt/frankfurt_000001_001464_leftImg8bit.png\n",
            "52 val/frankfurt/frankfurt_000001_002512_leftImg8bit.png\n",
            "53 val/frankfurt/frankfurt_000001_002646_leftImg8bit.png\n",
            "54 val/frankfurt/frankfurt_000001_002759_leftImg8bit.png\n",
            "55 val/frankfurt/frankfurt_000001_003056_leftImg8bit.png\n",
            "56 val/frankfurt/frankfurt_000001_003588_leftImg8bit.png\n",
            "57 val/frankfurt/frankfurt_000001_004327_leftImg8bit.png\n",
            "58 val/frankfurt/frankfurt_000001_004736_leftImg8bit.png\n",
            "59 val/frankfurt/frankfurt_000001_004859_leftImg8bit.png\n",
            "60 val/frankfurt/frankfurt_000001_005184_leftImg8bit.png\n",
            "61 val/frankfurt/frankfurt_000001_005410_leftImg8bit.png\n",
            "62 val/frankfurt/frankfurt_000001_005703_leftImg8bit.png\n",
            "63 val/frankfurt/frankfurt_000001_005898_leftImg8bit.png\n",
            "64 val/frankfurt/frankfurt_000001_007285_leftImg8bit.png\n",
            "65 val/frankfurt/frankfurt_000001_007407_leftImg8bit.png\n",
            "66 val/frankfurt/frankfurt_000001_007622_leftImg8bit.png\n",
            "67 val/frankfurt/frankfurt_000001_007857_leftImg8bit.png\n",
            "68 val/frankfurt/frankfurt_000001_007973_leftImg8bit.png\n",
            "69 val/frankfurt/frankfurt_000001_008200_leftImg8bit.png\n",
            "70 val/frankfurt/frankfurt_000001_008688_leftImg8bit.png\n",
            "71 val/frankfurt/frankfurt_000001_009058_leftImg8bit.png\n",
            "72 val/frankfurt/frankfurt_000001_009504_leftImg8bit.png\n",
            "73 val/frankfurt/frankfurt_000001_009854_leftImg8bit.png\n",
            "74 val/frankfurt/frankfurt_000001_010156_leftImg8bit.png\n",
            "75 val/frankfurt/frankfurt_000001_010444_leftImg8bit.png\n",
            "76 val/frankfurt/frankfurt_000001_010600_leftImg8bit.png\n",
            "77 val/frankfurt/frankfurt_000001_010830_leftImg8bit.png\n",
            "78 val/frankfurt/frankfurt_000001_011162_leftImg8bit.png\n",
            "79 val/frankfurt/frankfurt_000001_011715_leftImg8bit.png\n",
            "80 val/frankfurt/frankfurt_000001_011835_leftImg8bit.png\n",
            "81 val/frankfurt/frankfurt_000001_012038_leftImg8bit.png\n",
            "82 val/frankfurt/frankfurt_000001_012519_leftImg8bit.png\n",
            "83 val/frankfurt/frankfurt_000001_012699_leftImg8bit.png\n",
            "84 val/frankfurt/frankfurt_000001_012738_leftImg8bit.png\n",
            "85 val/frankfurt/frankfurt_000001_012870_leftImg8bit.png\n",
            "86 val/frankfurt/frankfurt_000001_013016_leftImg8bit.png\n",
            "87 val/frankfurt/frankfurt_000001_013496_leftImg8bit.png\n",
            "88 val/frankfurt/frankfurt_000001_013710_leftImg8bit.png\n",
            "89 val/frankfurt/frankfurt_000001_014221_leftImg8bit.png\n",
            "90 val/frankfurt/frankfurt_000001_014406_leftImg8bit.png\n",
            "91 val/frankfurt/frankfurt_000001_014565_leftImg8bit.png\n",
            "92 val/frankfurt/frankfurt_000001_014741_leftImg8bit.png\n",
            "93 val/frankfurt/frankfurt_000001_015091_leftImg8bit.png\n",
            "94 val/frankfurt/frankfurt_000001_015328_leftImg8bit.png\n",
            "95 val/frankfurt/frankfurt_000001_015768_leftImg8bit.png\n",
            "96 val/frankfurt/frankfurt_000001_016029_leftImg8bit.png\n",
            "97 val/frankfurt/frankfurt_000001_016273_leftImg8bit.png\n",
            "98 val/frankfurt/frankfurt_000001_016462_leftImg8bit.png\n",
            "99 val/frankfurt/frankfurt_000001_017101_leftImg8bit.png\n",
            "100 val/frankfurt/frankfurt_000001_017459_leftImg8bit.png\n",
            "101 val/frankfurt/frankfurt_000001_017842_leftImg8bit.png\n",
            "102 val/frankfurt/frankfurt_000001_018113_leftImg8bit.png\n",
            "103 val/frankfurt/frankfurt_000001_019698_leftImg8bit.png\n",
            "104 val/frankfurt/frankfurt_000001_019854_leftImg8bit.png\n",
            "105 val/frankfurt/frankfurt_000001_019969_leftImg8bit.png\n",
            "106 val/frankfurt/frankfurt_000001_020046_leftImg8bit.png\n",
            "107 val/frankfurt/frankfurt_000001_020287_leftImg8bit.png\n",
            "108 val/frankfurt/frankfurt_000001_020693_leftImg8bit.png\n",
            "109 val/frankfurt/frankfurt_000001_021406_leftImg8bit.png\n",
            "110 val/frankfurt/frankfurt_000001_021825_leftImg8bit.png\n",
            "111 val/frankfurt/frankfurt_000001_023235_leftImg8bit.png\n",
            "112 val/frankfurt/frankfurt_000001_023369_leftImg8bit.png\n",
            "113 val/frankfurt/frankfurt_000001_023769_leftImg8bit.png\n",
            "114 val/frankfurt/frankfurt_000001_024927_leftImg8bit.png\n",
            "115 val/frankfurt/frankfurt_000001_025512_leftImg8bit.png\n",
            "116 val/frankfurt/frankfurt_000001_025713_leftImg8bit.png\n",
            "117 val/frankfurt/frankfurt_000001_025921_leftImg8bit.png\n",
            "118 val/frankfurt/frankfurt_000001_027325_leftImg8bit.png\n",
            "119 val/frankfurt/frankfurt_000001_028232_leftImg8bit.png\n",
            "120 val/frankfurt/frankfurt_000001_028335_leftImg8bit.png\n",
            "121 val/frankfurt/frankfurt_000001_028590_leftImg8bit.png\n",
            "122 val/frankfurt/frankfurt_000001_028854_leftImg8bit.png\n",
            "123 val/frankfurt/frankfurt_000001_029086_leftImg8bit.png\n",
            "124 val/frankfurt/frankfurt_000001_029236_leftImg8bit.png\n",
            "125 val/frankfurt/frankfurt_000001_029600_leftImg8bit.png\n",
            "126 val/frankfurt/frankfurt_000001_030067_leftImg8bit.png\n",
            "127 val/frankfurt/frankfurt_000001_030310_leftImg8bit.png\n",
            "128 val/frankfurt/frankfurt_000001_030669_leftImg8bit.png\n",
            "129 val/frankfurt/frankfurt_000001_031266_leftImg8bit.png\n",
            "130 val/frankfurt/frankfurt_000001_031416_leftImg8bit.png\n",
            "131 val/frankfurt/frankfurt_000001_032018_leftImg8bit.png\n",
            "132 val/frankfurt/frankfurt_000001_032556_leftImg8bit.png\n",
            "133 val/frankfurt/frankfurt_000001_032711_leftImg8bit.png\n",
            "134 val/frankfurt/frankfurt_000001_032942_leftImg8bit.png\n",
            "135 val/frankfurt/frankfurt_000001_033655_leftImg8bit.png\n",
            "136 val/frankfurt/frankfurt_000001_034047_leftImg8bit.png\n",
            "137 val/frankfurt/frankfurt_000001_034816_leftImg8bit.png\n",
            "138 val/frankfurt/frankfurt_000001_035144_leftImg8bit.png\n",
            "139 val/frankfurt/frankfurt_000001_035864_leftImg8bit.png\n",
            "140 val/frankfurt/frankfurt_000001_037705_leftImg8bit.png\n",
            "141 val/frankfurt/frankfurt_000001_038245_leftImg8bit.png\n",
            "142 val/frankfurt/frankfurt_000001_038418_leftImg8bit.png\n",
            "143 val/frankfurt/frankfurt_000001_038645_leftImg8bit.png\n",
            "144 val/frankfurt/frankfurt_000001_038844_leftImg8bit.png\n",
            "145 val/frankfurt/frankfurt_000001_039895_leftImg8bit.png\n",
            "146 val/frankfurt/frankfurt_000001_040575_leftImg8bit.png\n",
            "147 val/frankfurt/frankfurt_000001_040732_leftImg8bit.png\n",
            "148 val/frankfurt/frankfurt_000001_041074_leftImg8bit.png\n",
            "149 val/frankfurt/frankfurt_000001_041354_leftImg8bit.png\n",
            "150 val/frankfurt/frankfurt_000001_041517_leftImg8bit.png\n",
            "151 val/frankfurt/frankfurt_000001_041664_leftImg8bit.png\n",
            "152 val/frankfurt/frankfurt_000001_042098_leftImg8bit.png\n",
            "153 val/frankfurt/frankfurt_000001_042384_leftImg8bit.png\n",
            "154 val/frankfurt/frankfurt_000001_042733_leftImg8bit.png\n",
            "155 val/frankfurt/frankfurt_000001_043395_leftImg8bit.png\n",
            "156 val/frankfurt/frankfurt_000001_043564_leftImg8bit.png\n",
            "157 val/frankfurt/frankfurt_000001_044227_leftImg8bit.png\n",
            "158 val/frankfurt/frankfurt_000001_044413_leftImg8bit.png\n",
            "159 val/frankfurt/frankfurt_000001_044525_leftImg8bit.png\n",
            "160 val/frankfurt/frankfurt_000001_044658_leftImg8bit.png\n",
            "161 val/frankfurt/frankfurt_000001_044787_leftImg8bit.png\n",
            "162 val/frankfurt/frankfurt_000001_046126_leftImg8bit.png\n",
            "163 val/frankfurt/frankfurt_000001_046272_leftImg8bit.png\n",
            "164 val/frankfurt/frankfurt_000001_046504_leftImg8bit.png\n",
            "165 val/frankfurt/frankfurt_000001_046779_leftImg8bit.png\n",
            "166 val/frankfurt/frankfurt_000001_047178_leftImg8bit.png\n",
            "167 val/frankfurt/frankfurt_000001_047552_leftImg8bit.png\n",
            "168 val/frankfurt/frankfurt_000001_048196_leftImg8bit.png\n",
            "169 val/frankfurt/frankfurt_000001_048355_leftImg8bit.png\n",
            "170 val/frankfurt/frankfurt_000001_048654_leftImg8bit.png\n",
            "171 val/frankfurt/frankfurt_000001_049078_leftImg8bit.png\n",
            "172 val/frankfurt/frankfurt_000001_049209_leftImg8bit.png\n",
            "173 val/frankfurt/frankfurt_000001_049298_leftImg8bit.png\n",
            "174 val/frankfurt/frankfurt_000001_049698_leftImg8bit.png\n",
            "175 val/frankfurt/frankfurt_000001_049770_leftImg8bit.png\n",
            "176 val/frankfurt/frankfurt_000001_050149_leftImg8bit.png\n",
            "177 val/frankfurt/frankfurt_000001_050686_leftImg8bit.png\n",
            "178 val/frankfurt/frankfurt_000001_051516_leftImg8bit.png\n",
            "179 val/frankfurt/frankfurt_000001_051737_leftImg8bit.png\n",
            "180 val/frankfurt/frankfurt_000001_051807_leftImg8bit.png\n",
            "181 val/frankfurt/frankfurt_000001_052120_leftImg8bit.png\n",
            "182 val/frankfurt/frankfurt_000001_052594_leftImg8bit.png\n",
            "183 val/frankfurt/frankfurt_000001_053102_leftImg8bit.png\n",
            "184 val/frankfurt/frankfurt_000001_054077_leftImg8bit.png\n",
            "185 val/frankfurt/frankfurt_000001_054219_leftImg8bit.png\n",
            "186 val/frankfurt/frankfurt_000001_054415_leftImg8bit.png\n",
            "187 val/frankfurt/frankfurt_000001_054640_leftImg8bit.png\n",
            "188 val/frankfurt/frankfurt_000001_054884_leftImg8bit.png\n",
            "189 val/frankfurt/frankfurt_000001_055062_leftImg8bit.png\n",
            "190 val/frankfurt/frankfurt_000001_055172_leftImg8bit.png\n",
            "191 val/frankfurt/frankfurt_000001_055306_leftImg8bit.png\n",
            "192 val/frankfurt/frankfurt_000001_055387_leftImg8bit.png\n",
            "193 val/frankfurt/frankfurt_000001_055538_leftImg8bit.png\n",
            "194 val/frankfurt/frankfurt_000001_055603_leftImg8bit.png\n",
            "195 val/frankfurt/frankfurt_000001_055709_leftImg8bit.png\n",
            "196 val/frankfurt/frankfurt_000001_056580_leftImg8bit.png\n",
            "197 val/frankfurt/frankfurt_000001_057181_leftImg8bit.png\n",
            "198 val/frankfurt/frankfurt_000001_057478_leftImg8bit.png\n",
            "199 val/frankfurt/frankfurt_000001_057954_leftImg8bit.png\n",
            "200 val/frankfurt/frankfurt_000001_058057_leftImg8bit.png\n",
            "201 val/frankfurt/frankfurt_000001_058176_leftImg8bit.png\n",
            "202 val/frankfurt/frankfurt_000001_058504_leftImg8bit.png\n",
            "203 val/frankfurt/frankfurt_000001_058914_leftImg8bit.png\n",
            "204 val/frankfurt/frankfurt_000001_059119_leftImg8bit.png\n",
            "205 val/frankfurt/frankfurt_000001_059642_leftImg8bit.png\n",
            "206 val/frankfurt/frankfurt_000001_059789_leftImg8bit.png\n",
            "207 val/frankfurt/frankfurt_000001_060135_leftImg8bit.png\n",
            "208 val/frankfurt/frankfurt_000001_060422_leftImg8bit.png\n",
            "209 val/frankfurt/frankfurt_000001_060545_leftImg8bit.png\n",
            "210 val/frankfurt/frankfurt_000001_060906_leftImg8bit.png\n",
            "211 val/frankfurt/frankfurt_000001_061682_leftImg8bit.png\n",
            "212 val/frankfurt/frankfurt_000001_061763_leftImg8bit.png\n",
            "213 val/frankfurt/frankfurt_000001_062016_leftImg8bit.png\n",
            "214 val/frankfurt/frankfurt_000001_062250_leftImg8bit.png\n",
            "215 val/frankfurt/frankfurt_000001_062396_leftImg8bit.png\n",
            "216 val/frankfurt/frankfurt_000001_062509_leftImg8bit.png\n",
            "217 val/frankfurt/frankfurt_000001_062653_leftImg8bit.png\n",
            "218 val/frankfurt/frankfurt_000001_062793_leftImg8bit.png\n",
            "219 val/frankfurt/frankfurt_000001_063045_leftImg8bit.png\n",
            "220 val/frankfurt/frankfurt_000001_064130_leftImg8bit.png\n",
            "221 val/frankfurt/frankfurt_000001_064305_leftImg8bit.png\n",
            "222 val/frankfurt/frankfurt_000001_064651_leftImg8bit.png\n",
            "223 val/frankfurt/frankfurt_000001_064798_leftImg8bit.png\n",
            "224 val/frankfurt/frankfurt_000001_064925_leftImg8bit.png\n",
            "225 val/frankfurt/frankfurt_000001_065160_leftImg8bit.png\n",
            "226 val/frankfurt/frankfurt_000001_065617_leftImg8bit.png\n",
            "227 val/frankfurt/frankfurt_000001_065850_leftImg8bit.png\n",
            "228 val/frankfurt/frankfurt_000001_066092_leftImg8bit.png\n",
            "229 val/frankfurt/frankfurt_000001_066438_leftImg8bit.png\n",
            "230 val/frankfurt/frankfurt_000001_066574_leftImg8bit.png\n",
            "231 val/frankfurt/frankfurt_000001_066832_leftImg8bit.png\n",
            "232 val/frankfurt/frankfurt_000001_067092_leftImg8bit.png\n",
            "233 val/frankfurt/frankfurt_000001_067178_leftImg8bit.png\n",
            "234 val/frankfurt/frankfurt_000001_067295_leftImg8bit.png\n",
            "235 val/frankfurt/frankfurt_000001_067474_leftImg8bit.png\n",
            "236 val/frankfurt/frankfurt_000001_067735_leftImg8bit.png\n",
            "237 val/frankfurt/frankfurt_000001_068063_leftImg8bit.png\n",
            "238 val/frankfurt/frankfurt_000001_068208_leftImg8bit.png\n",
            "239 val/frankfurt/frankfurt_000001_068682_leftImg8bit.png\n",
            "240 val/frankfurt/frankfurt_000001_068772_leftImg8bit.png\n",
            "241 val/frankfurt/frankfurt_000001_069633_leftImg8bit.png\n",
            "242 val/frankfurt/frankfurt_000001_070099_leftImg8bit.png\n",
            "243 val/frankfurt/frankfurt_000001_071288_leftImg8bit.png\n",
            "244 val/frankfurt/frankfurt_000001_071781_leftImg8bit.png\n",
            "245 val/frankfurt/frankfurt_000001_072155_leftImg8bit.png\n",
            "246 val/frankfurt/frankfurt_000001_072295_leftImg8bit.png\n",
            "247 val/frankfurt/frankfurt_000001_073088_leftImg8bit.png\n",
            "248 val/frankfurt/frankfurt_000001_073243_leftImg8bit.png\n",
            "249 val/frankfurt/frankfurt_000001_073464_leftImg8bit.png\n",
            "250 val/frankfurt/frankfurt_000001_073911_leftImg8bit.png\n",
            "251 val/frankfurt/frankfurt_000001_075296_leftImg8bit.png\n",
            "252 val/frankfurt/frankfurt_000001_075984_leftImg8bit.png\n",
            "253 val/frankfurt/frankfurt_000001_076502_leftImg8bit.png\n",
            "254 val/frankfurt/frankfurt_000001_077092_leftImg8bit.png\n",
            "255 val/frankfurt/frankfurt_000001_077233_leftImg8bit.png\n",
            "256 val/frankfurt/frankfurt_000001_077434_leftImg8bit.png\n",
            "257 val/frankfurt/frankfurt_000001_078803_leftImg8bit.png\n",
            "258 val/frankfurt/frankfurt_000001_079206_leftImg8bit.png\n",
            "259 val/frankfurt/frankfurt_000001_080091_leftImg8bit.png\n",
            "260 val/frankfurt/frankfurt_000001_080391_leftImg8bit.png\n",
            "261 val/frankfurt/frankfurt_000001_080830_leftImg8bit.png\n",
            "262 val/frankfurt/frankfurt_000001_082087_leftImg8bit.png\n",
            "263 val/frankfurt/frankfurt_000001_082466_leftImg8bit.png\n",
            "264 val/frankfurt/frankfurt_000001_083029_leftImg8bit.png\n",
            "265 val/frankfurt/frankfurt_000001_083199_leftImg8bit.png\n",
            "266 val/frankfurt/frankfurt_000001_083852_leftImg8bit.png\n",
            "267 val/lindau/lindau_000000_000019_leftImg8bit.png\n",
            "268 val/lindau/lindau_000001_000019_leftImg8bit.png\n",
            "269 val/lindau/lindau_000002_000019_leftImg8bit.png\n",
            "270 val/lindau/lindau_000003_000019_leftImg8bit.png\n",
            "271 val/lindau/lindau_000004_000019_leftImg8bit.png\n",
            "272 val/lindau/lindau_000005_000019_leftImg8bit.png\n",
            "273 val/lindau/lindau_000006_000019_leftImg8bit.png\n",
            "274 val/lindau/lindau_000007_000019_leftImg8bit.png\n",
            "275 val/lindau/lindau_000008_000019_leftImg8bit.png\n",
            "276 val/lindau/lindau_000009_000019_leftImg8bit.png\n",
            "277 val/lindau/lindau_000010_000019_leftImg8bit.png\n",
            "278 val/lindau/lindau_000011_000019_leftImg8bit.png\n",
            "279 val/lindau/lindau_000012_000019_leftImg8bit.png\n",
            "280 val/lindau/lindau_000013_000019_leftImg8bit.png\n",
            "281 val/lindau/lindau_000014_000019_leftImg8bit.png\n",
            "282 val/lindau/lindau_000015_000019_leftImg8bit.png\n",
            "283 val/lindau/lindau_000016_000019_leftImg8bit.png\n",
            "284 val/lindau/lindau_000017_000019_leftImg8bit.png\n",
            "285 val/lindau/lindau_000018_000019_leftImg8bit.png\n",
            "286 val/lindau/lindau_000019_000019_leftImg8bit.png\n",
            "287 val/lindau/lindau_000020_000019_leftImg8bit.png\n",
            "288 val/lindau/lindau_000021_000019_leftImg8bit.png\n",
            "289 val/lindau/lindau_000022_000019_leftImg8bit.png\n",
            "290 val/lindau/lindau_000023_000019_leftImg8bit.png\n",
            "291 val/lindau/lindau_000024_000019_leftImg8bit.png\n",
            "292 val/lindau/lindau_000025_000019_leftImg8bit.png\n",
            "293 val/lindau/lindau_000026_000019_leftImg8bit.png\n",
            "294 val/lindau/lindau_000027_000019_leftImg8bit.png\n",
            "295 val/lindau/lindau_000028_000019_leftImg8bit.png\n",
            "296 val/lindau/lindau_000029_000019_leftImg8bit.png\n",
            "297 val/lindau/lindau_000030_000019_leftImg8bit.png\n",
            "298 val/lindau/lindau_000031_000019_leftImg8bit.png\n",
            "299 val/lindau/lindau_000032_000019_leftImg8bit.png\n",
            "300 val/lindau/lindau_000033_000019_leftImg8bit.png\n",
            "301 val/lindau/lindau_000034_000019_leftImg8bit.png\n",
            "302 val/lindau/lindau_000035_000019_leftImg8bit.png\n",
            "303 val/lindau/lindau_000036_000019_leftImg8bit.png\n",
            "304 val/lindau/lindau_000037_000019_leftImg8bit.png\n",
            "305 val/lindau/lindau_000038_000019_leftImg8bit.png\n",
            "306 val/lindau/lindau_000039_000019_leftImg8bit.png\n",
            "307 val/lindau/lindau_000040_000019_leftImg8bit.png\n",
            "308 val/lindau/lindau_000041_000019_leftImg8bit.png\n",
            "309 val/lindau/lindau_000042_000019_leftImg8bit.png\n",
            "310 val/lindau/lindau_000043_000019_leftImg8bit.png\n",
            "311 val/lindau/lindau_000044_000019_leftImg8bit.png\n",
            "312 val/lindau/lindau_000045_000019_leftImg8bit.png\n",
            "313 val/lindau/lindau_000046_000019_leftImg8bit.png\n",
            "314 val/lindau/lindau_000047_000019_leftImg8bit.png\n",
            "315 val/lindau/lindau_000048_000019_leftImg8bit.png\n",
            "316 val/lindau/lindau_000049_000019_leftImg8bit.png\n",
            "317 val/lindau/lindau_000050_000019_leftImg8bit.png\n",
            "318 val/lindau/lindau_000051_000019_leftImg8bit.png\n",
            "319 val/lindau/lindau_000052_000019_leftImg8bit.png\n",
            "320 val/lindau/lindau_000053_000019_leftImg8bit.png\n",
            "321 val/lindau/lindau_000054_000019_leftImg8bit.png\n",
            "322 val/lindau/lindau_000055_000019_leftImg8bit.png\n",
            "323 val/lindau/lindau_000056_000019_leftImg8bit.png\n",
            "324 val/lindau/lindau_000057_000019_leftImg8bit.png\n",
            "325 val/lindau/lindau_000058_000019_leftImg8bit.png\n",
            "326 val/munster/munster_000000_000019_leftImg8bit.png\n",
            "327 val/munster/munster_000001_000019_leftImg8bit.png\n",
            "328 val/munster/munster_000002_000019_leftImg8bit.png\n",
            "329 val/munster/munster_000003_000019_leftImg8bit.png\n",
            "330 val/munster/munster_000004_000019_leftImg8bit.png\n",
            "331 val/munster/munster_000005_000019_leftImg8bit.png\n",
            "332 val/munster/munster_000006_000019_leftImg8bit.png\n",
            "333 val/munster/munster_000007_000019_leftImg8bit.png\n",
            "334 val/munster/munster_000008_000019_leftImg8bit.png\n",
            "335 val/munster/munster_000009_000019_leftImg8bit.png\n",
            "336 val/munster/munster_000010_000019_leftImg8bit.png\n",
            "337 val/munster/munster_000011_000019_leftImg8bit.png\n",
            "338 val/munster/munster_000012_000019_leftImg8bit.png\n",
            "339 val/munster/munster_000013_000019_leftImg8bit.png\n",
            "340 val/munster/munster_000014_000019_leftImg8bit.png\n",
            "341 val/munster/munster_000015_000019_leftImg8bit.png\n",
            "342 val/munster/munster_000016_000019_leftImg8bit.png\n",
            "343 val/munster/munster_000017_000019_leftImg8bit.png\n",
            "344 val/munster/munster_000018_000019_leftImg8bit.png\n",
            "345 val/munster/munster_000019_000019_leftImg8bit.png\n",
            "346 val/munster/munster_000020_000019_leftImg8bit.png\n",
            "347 val/munster/munster_000021_000019_leftImg8bit.png\n",
            "348 val/munster/munster_000022_000019_leftImg8bit.png\n",
            "349 val/munster/munster_000023_000019_leftImg8bit.png\n",
            "350 val/munster/munster_000024_000019_leftImg8bit.png\n",
            "351 val/munster/munster_000025_000019_leftImg8bit.png\n",
            "352 val/munster/munster_000026_000019_leftImg8bit.png\n",
            "353 val/munster/munster_000027_000019_leftImg8bit.png\n",
            "354 val/munster/munster_000028_000019_leftImg8bit.png\n",
            "355 val/munster/munster_000029_000019_leftImg8bit.png\n",
            "356 val/munster/munster_000030_000019_leftImg8bit.png\n",
            "357 val/munster/munster_000031_000019_leftImg8bit.png\n",
            "358 val/munster/munster_000032_000019_leftImg8bit.png\n",
            "359 val/munster/munster_000033_000019_leftImg8bit.png\n",
            "360 val/munster/munster_000034_000019_leftImg8bit.png\n",
            "361 val/munster/munster_000035_000019_leftImg8bit.png\n",
            "362 val/munster/munster_000036_000019_leftImg8bit.png\n",
            "363 val/munster/munster_000037_000019_leftImg8bit.png\n",
            "364 val/munster/munster_000038_000019_leftImg8bit.png\n",
            "365 val/munster/munster_000039_000019_leftImg8bit.png\n",
            "366 val/munster/munster_000040_000019_leftImg8bit.png\n",
            "367 val/munster/munster_000041_000019_leftImg8bit.png\n",
            "368 val/munster/munster_000042_000019_leftImg8bit.png\n",
            "369 val/munster/munster_000043_000019_leftImg8bit.png\n",
            "370 val/munster/munster_000044_000019_leftImg8bit.png\n",
            "371 val/munster/munster_000045_000019_leftImg8bit.png\n",
            "372 val/munster/munster_000046_000019_leftImg8bit.png\n",
            "373 val/munster/munster_000047_000019_leftImg8bit.png\n",
            "374 val/munster/munster_000048_000019_leftImg8bit.png\n",
            "375 val/munster/munster_000049_000019_leftImg8bit.png\n",
            "376 val/munster/munster_000050_000019_leftImg8bit.png\n",
            "377 val/munster/munster_000051_000019_leftImg8bit.png\n",
            "378 val/munster/munster_000052_000019_leftImg8bit.png\n",
            "379 val/munster/munster_000053_000019_leftImg8bit.png\n",
            "380 val/munster/munster_000054_000019_leftImg8bit.png\n",
            "381 val/munster/munster_000055_000019_leftImg8bit.png\n",
            "382 val/munster/munster_000056_000019_leftImg8bit.png\n",
            "383 val/munster/munster_000057_000019_leftImg8bit.png\n",
            "384 val/munster/munster_000058_000019_leftImg8bit.png\n",
            "385 val/munster/munster_000059_000019_leftImg8bit.png\n",
            "386 val/munster/munster_000060_000019_leftImg8bit.png\n",
            "387 val/munster/munster_000061_000019_leftImg8bit.png\n",
            "388 val/munster/munster_000062_000019_leftImg8bit.png\n",
            "389 val/munster/munster_000063_000019_leftImg8bit.png\n",
            "390 val/munster/munster_000064_000019_leftImg8bit.png\n",
            "391 val/munster/munster_000065_000019_leftImg8bit.png\n",
            "392 val/munster/munster_000066_000019_leftImg8bit.png\n",
            "393 val/munster/munster_000067_000019_leftImg8bit.png\n",
            "394 val/munster/munster_000068_000019_leftImg8bit.png\n",
            "395 val/munster/munster_000069_000019_leftImg8bit.png\n",
            "396 val/munster/munster_000070_000019_leftImg8bit.png\n",
            "397 val/munster/munster_000071_000019_leftImg8bit.png\n",
            "398 val/munster/munster_000072_000019_leftImg8bit.png\n",
            "399 val/munster/munster_000073_000019_leftImg8bit.png\n",
            "400 val/munster/munster_000074_000019_leftImg8bit.png\n",
            "401 val/munster/munster_000075_000019_leftImg8bit.png\n",
            "402 val/munster/munster_000076_000019_leftImg8bit.png\n",
            "403 val/munster/munster_000077_000019_leftImg8bit.png\n",
            "404 val/munster/munster_000078_000019_leftImg8bit.png\n",
            "405 val/munster/munster_000079_000019_leftImg8bit.png\n",
            "406 val/munster/munster_000080_000019_leftImg8bit.png\n",
            "407 val/munster/munster_000081_000019_leftImg8bit.png\n",
            "408 val/munster/munster_000082_000019_leftImg8bit.png\n",
            "409 val/munster/munster_000083_000019_leftImg8bit.png\n",
            "410 val/munster/munster_000084_000019_leftImg8bit.png\n",
            "411 val/munster/munster_000085_000019_leftImg8bit.png\n",
            "412 val/munster/munster_000086_000019_leftImg8bit.png\n",
            "413 val/munster/munster_000087_000019_leftImg8bit.png\n",
            "414 val/munster/munster_000088_000019_leftImg8bit.png\n",
            "415 val/munster/munster_000089_000019_leftImg8bit.png\n",
            "416 val/munster/munster_000090_000019_leftImg8bit.png\n",
            "417 val/munster/munster_000091_000019_leftImg8bit.png\n",
            "418 val/munster/munster_000092_000019_leftImg8bit.png\n",
            "419 val/munster/munster_000093_000019_leftImg8bit.png\n",
            "420 val/munster/munster_000094_000019_leftImg8bit.png\n",
            "421 val/munster/munster_000095_000019_leftImg8bit.png\n",
            "422 val/munster/munster_000096_000019_leftImg8bit.png\n",
            "423 val/munster/munster_000097_000019_leftImg8bit.png\n",
            "424 val/munster/munster_000098_000019_leftImg8bit.png\n",
            "425 val/munster/munster_000099_000019_leftImg8bit.png\n",
            "426 val/munster/munster_000100_000019_leftImg8bit.png\n",
            "427 val/munster/munster_000101_000019_leftImg8bit.png\n",
            "428 val/munster/munster_000102_000019_leftImg8bit.png\n",
            "429 val/munster/munster_000103_000019_leftImg8bit.png\n",
            "430 val/munster/munster_000104_000019_leftImg8bit.png\n",
            "431 val/munster/munster_000105_000019_leftImg8bit.png\n",
            "432 val/munster/munster_000106_000019_leftImg8bit.png\n",
            "433 val/munster/munster_000107_000019_leftImg8bit.png\n",
            "434 val/munster/munster_000108_000019_leftImg8bit.png\n",
            "435 val/munster/munster_000109_000019_leftImg8bit.png\n",
            "436 val/munster/munster_000110_000019_leftImg8bit.png\n",
            "437 val/munster/munster_000111_000019_leftImg8bit.png\n",
            "438 val/munster/munster_000112_000019_leftImg8bit.png\n",
            "439 val/munster/munster_000113_000019_leftImg8bit.png\n",
            "440 val/munster/munster_000114_000019_leftImg8bit.png\n",
            "441 val/munster/munster_000115_000019_leftImg8bit.png\n",
            "442 val/munster/munster_000116_000019_leftImg8bit.png\n",
            "443 val/munster/munster_000117_000019_leftImg8bit.png\n",
            "444 val/munster/munster_000118_000019_leftImg8bit.png\n",
            "445 val/munster/munster_000119_000019_leftImg8bit.png\n",
            "446 val/munster/munster_000120_000019_leftImg8bit.png\n",
            "447 val/munster/munster_000121_000019_leftImg8bit.png\n",
            "448 val/munster/munster_000122_000019_leftImg8bit.png\n",
            "449 val/munster/munster_000123_000019_leftImg8bit.png\n",
            "450 val/munster/munster_000124_000019_leftImg8bit.png\n",
            "451 val/munster/munster_000125_000019_leftImg8bit.png\n",
            "452 val/munster/munster_000126_000019_leftImg8bit.png\n",
            "453 val/munster/munster_000127_000019_leftImg8bit.png\n",
            "454 val/munster/munster_000128_000019_leftImg8bit.png\n",
            "455 val/munster/munster_000129_000019_leftImg8bit.png\n",
            "456 val/munster/munster_000130_000019_leftImg8bit.png\n",
            "457 val/munster/munster_000131_000019_leftImg8bit.png\n",
            "458 val/munster/munster_000132_000019_leftImg8bit.png\n",
            "459 val/munster/munster_000133_000019_leftImg8bit.png\n",
            "460 val/munster/munster_000134_000019_leftImg8bit.png\n",
            "461 val/munster/munster_000135_000019_leftImg8bit.png\n",
            "462 val/munster/munster_000136_000019_leftImg8bit.png\n",
            "463 val/munster/munster_000137_000019_leftImg8bit.png\n",
            "464 val/munster/munster_000138_000019_leftImg8bit.png\n",
            "465 val/munster/munster_000139_000019_leftImg8bit.png\n",
            "466 val/munster/munster_000140_000019_leftImg8bit.png\n",
            "467 val/munster/munster_000141_000019_leftImg8bit.png\n",
            "468 val/munster/munster_000142_000019_leftImg8bit.png\n",
            "469 val/munster/munster_000143_000019_leftImg8bit.png\n",
            "470 val/munster/munster_000144_000019_leftImg8bit.png\n",
            "471 val/munster/munster_000145_000019_leftImg8bit.png\n",
            "472 val/munster/munster_000146_000019_leftImg8bit.png\n",
            "473 val/munster/munster_000147_000019_leftImg8bit.png\n",
            "474 val/munster/munster_000148_000019_leftImg8bit.png\n",
            "475 val/munster/munster_000149_000019_leftImg8bit.png\n",
            "476 val/munster/munster_000150_000019_leftImg8bit.png\n",
            "477 val/munster/munster_000151_000019_leftImg8bit.png\n",
            "478 val/munster/munster_000152_000019_leftImg8bit.png\n",
            "479 val/munster/munster_000153_000019_leftImg8bit.png\n",
            "480 val/munster/munster_000154_000019_leftImg8bit.png\n",
            "481 val/munster/munster_000155_000019_leftImg8bit.png\n",
            "482 val/munster/munster_000156_000019_leftImg8bit.png\n",
            "483 val/munster/munster_000157_000019_leftImg8bit.png\n",
            "484 val/munster/munster_000158_000019_leftImg8bit.png\n",
            "485 val/munster/munster_000159_000019_leftImg8bit.png\n",
            "486 val/munster/munster_000160_000019_leftImg8bit.png\n",
            "487 val/munster/munster_000161_000019_leftImg8bit.png\n",
            "488 val/munster/munster_000162_000019_leftImg8bit.png\n",
            "489 val/munster/munster_000163_000019_leftImg8bit.png\n",
            "490 val/munster/munster_000164_000019_leftImg8bit.png\n",
            "491 val/munster/munster_000165_000019_leftImg8bit.png\n",
            "492 val/munster/munster_000166_000019_leftImg8bit.png\n",
            "493 val/munster/munster_000167_000019_leftImg8bit.png\n",
            "494 val/munster/munster_000168_000019_leftImg8bit.png\n",
            "495 val/munster/munster_000169_000019_leftImg8bit.png\n",
            "496 val/munster/munster_000170_000019_leftImg8bit.png\n",
            "497 val/munster/munster_000171_000019_leftImg8bit.png\n",
            "498 val/munster/munster_000172_000019_leftImg8bit.png\n",
            "499 val/munster/munster_000173_000019_leftImg8bit.png\n",
            "---------------------------------------\n",
            "Took  84.08209800720215 seconds\n",
            "=======================================\n",
            "Per-Class IoU:\n",
            "\u001b[0m97.6248\u001b[0m Road\n",
            "\u001b[0m81.3731\u001b[0m sidewalk\n",
            "\u001b[0m90.7717\u001b[0m building\n",
            "\u001b[0m49.4294\u001b[0m wall\n",
            "\u001b[0m54.9306\u001b[0m fence\n",
            "\u001b[0m60.8064\u001b[0m pole\n",
            "\u001b[0m62.6033\u001b[0m traffic light\n",
            "\u001b[0m72.3215\u001b[0m traffic sign\n",
            "\u001b[0m91.3524\u001b[0m vegetation\n",
            "\u001b[0m60.9674\u001b[0m terrain\n",
            "\u001b[0m93.3789\u001b[0m sky\n",
            "\u001b[0m76.1133\u001b[0m person\n",
            "\u001b[0m53.4537\u001b[0m rider\n",
            "\u001b[0m92.9089\u001b[0m car\n",
            "\u001b[0m72.7847\u001b[0m truck\n",
            "\u001b[0m78.8651\u001b[0m bus\n",
            "\u001b[0m63.8576\u001b[0m train\n",
            "\u001b[0m46.4064\u001b[0m motorcycle\n",
            "\u001b[0m71.8942\u001b[0m bicycle\n",
            "=======================================\n",
            "MEAN IoU:  \u001b[0m72.2023\u001b[0m %\n"
          ]
        }
      ]
    },
    {
      "cell_type": "markdown",
      "source": [
        "##Task 3"
      ],
      "metadata": {
        "id": "pbEOF3M2rUEs"
      }
    },
    {
      "cell_type": "markdown",
      "source": [
        "Enet"
      ],
      "metadata": {
        "id": "kshZrKmZUKnW"
      }
    },
    {
      "cell_type": "code",
      "source": [
        "%run /content/HamburgerManager/eval/evalAnomaly.py --task 3 --model Enet --isColab --input /content/HamburgerManager/Validation_Dataset/RoadObsticle21/images --loadDir /content/HamburgerManager/ --loadWeights trained_models/task3/enet_pretrained_30.pth --loadModel eval/enet.py"
      ],
      "metadata": {
        "colab": {
          "base_uri": "https://localhost:8080/"
        },
        "id": "SYnizi93rj-6",
        "outputId": "46983cc1-4888-4004-8bea-9000d4d1f863"
      },
      "execution_count": 5,
      "outputs": [
        {
          "output_type": "stream",
          "name": "stdout",
          "text": [
            "Task:  3\n",
            "Method:  MaxLogit\n",
            "Dataset:  RoadObsticle21\n",
            "Loading model: /content/HamburgerManager/eval/enet.py\n",
            "Loading weights: /content/HamburgerManager/trained_models/task3/enet_pretrained_30.pth\n",
            "Model and weights LOADED successfully\n",
            "/content/HamburgerManager/Validation_Dataset/RoadObsticle21/images/28.webp\n",
            "/content/HamburgerManager/Validation_Dataset/RoadObsticle21/images/6.webp\n",
            "/content/HamburgerManager/Validation_Dataset/RoadObsticle21/images/0.webp\n",
            "/content/HamburgerManager/Validation_Dataset/RoadObsticle21/images/4.webp\n",
            "/content/HamburgerManager/Validation_Dataset/RoadObsticle21/images/23.webp\n",
            "/content/HamburgerManager/Validation_Dataset/RoadObsticle21/images/18.webp\n",
            "/content/HamburgerManager/Validation_Dataset/RoadObsticle21/images/19.webp\n",
            "/content/HamburgerManager/Validation_Dataset/RoadObsticle21/images/2.webp\n",
            "/content/HamburgerManager/Validation_Dataset/RoadObsticle21/images/25.webp\n",
            "/content/HamburgerManager/Validation_Dataset/RoadObsticle21/images/16.webp\n",
            "/content/HamburgerManager/Validation_Dataset/RoadObsticle21/images/13.webp\n",
            "/content/HamburgerManager/Validation_Dataset/RoadObsticle21/images/22.webp\n",
            "/content/HamburgerManager/Validation_Dataset/RoadObsticle21/images/21.webp\n",
            "/content/HamburgerManager/Validation_Dataset/RoadObsticle21/images/8.webp\n",
            "/content/HamburgerManager/Validation_Dataset/RoadObsticle21/images/11.webp\n",
            "/content/HamburgerManager/Validation_Dataset/RoadObsticle21/images/17.webp\n",
            "/content/HamburgerManager/Validation_Dataset/RoadObsticle21/images/1.webp\n",
            "/content/HamburgerManager/Validation_Dataset/RoadObsticle21/images/5.webp\n",
            "/content/HamburgerManager/Validation_Dataset/RoadObsticle21/images/9.webp\n",
            "/content/HamburgerManager/Validation_Dataset/RoadObsticle21/images/3.webp\n",
            "/content/HamburgerManager/Validation_Dataset/RoadObsticle21/images/24.webp\n",
            "/content/HamburgerManager/Validation_Dataset/RoadObsticle21/images/14.webp\n",
            "/content/HamburgerManager/Validation_Dataset/RoadObsticle21/images/10.webp\n",
            "/content/HamburgerManager/Validation_Dataset/RoadObsticle21/images/26.webp\n",
            "/content/HamburgerManager/Validation_Dataset/RoadObsticle21/images/12.webp\n",
            "/content/HamburgerManager/Validation_Dataset/RoadObsticle21/images/27.webp\n",
            "/content/HamburgerManager/Validation_Dataset/RoadObsticle21/images/15.webp\n",
            "/content/HamburgerManager/Validation_Dataset/RoadObsticle21/images/20.webp\n",
            "/content/HamburgerManager/Validation_Dataset/RoadObsticle21/images/29.webp\n",
            "/content/HamburgerManager/Validation_Dataset/RoadObsticle21/images/7.webp\n",
            "AUPRC score: 0.5191673498671557\n",
            "FPR@TPR95: 85.23329322412603\n"
          ]
        }
      ]
    },
    {
      "cell_type": "markdown",
      "source": [
        "ErfNet"
      ],
      "metadata": {
        "id": "lwIHMfifUM0F"
      }
    },
    {
      "cell_type": "code",
      "source": [
        "%run /content/HamburgerManager/eval/evalAnomaly.py --task 3 --model Erfnet --isColab --input /content/HamburgerManager/Validation_Dataset/FS_LostFound_full/images --loadDir /content/HamburgerManager/ --loadWeights trained_models/task3/erfnet_pretrained_30.pth --loadModel eval/erfnet.py"
      ],
      "metadata": {
        "colab": {
          "base_uri": "https://localhost:8080/"
        },
        "id": "oL-6XuauUN6N",
        "outputId": "e9595aa9-f51e-4653-ecb9-68a3c8a968b0"
      },
      "execution_count": 6,
      "outputs": [
        {
          "output_type": "stream",
          "name": "stdout",
          "text": [
            "Task:  3\n",
            "Method:  MaxLogit\n",
            "Dataset:  FS_LostFound_full\n",
            "Loading model: /content/HamburgerManager/eval/erfnet.py\n",
            "Loading weights: /content/HamburgerManager/trained_models/task3/erfnet_pretrained_30.pth\n",
            "Model and weights LOADED successfully\n",
            "/content/HamburgerManager/Validation_Dataset/FS_LostFound_full/images/67.png\n",
            "/content/HamburgerManager/Validation_Dataset/FS_LostFound_full/images/91.png\n",
            "/content/HamburgerManager/Validation_Dataset/FS_LostFound_full/images/66.png\n",
            "/content/HamburgerManager/Validation_Dataset/FS_LostFound_full/images/23.png\n",
            "/content/HamburgerManager/Validation_Dataset/FS_LostFound_full/images/35.png\n",
            "/content/HamburgerManager/Validation_Dataset/FS_LostFound_full/images/89.png\n",
            "/content/HamburgerManager/Validation_Dataset/FS_LostFound_full/images/54.png\n",
            "/content/HamburgerManager/Validation_Dataset/FS_LostFound_full/images/45.png\n",
            "/content/HamburgerManager/Validation_Dataset/FS_LostFound_full/images/4.png\n",
            "/content/HamburgerManager/Validation_Dataset/FS_LostFound_full/images/15.png\n",
            "/content/HamburgerManager/Validation_Dataset/FS_LostFound_full/images/14.png\n",
            "/content/HamburgerManager/Validation_Dataset/FS_LostFound_full/images/61.png\n",
            "/content/HamburgerManager/Validation_Dataset/FS_LostFound_full/images/99.png\n",
            "/content/HamburgerManager/Validation_Dataset/FS_LostFound_full/images/62.png\n",
            "/content/HamburgerManager/Validation_Dataset/FS_LostFound_full/images/92.png\n",
            "/content/HamburgerManager/Validation_Dataset/FS_LostFound_full/images/81.png\n",
            "/content/HamburgerManager/Validation_Dataset/FS_LostFound_full/images/32.png\n",
            "/content/HamburgerManager/Validation_Dataset/FS_LostFound_full/images/71.png\n",
            "/content/HamburgerManager/Validation_Dataset/FS_LostFound_full/images/93.png\n",
            "/content/HamburgerManager/Validation_Dataset/FS_LostFound_full/images/46.png\n",
            "/content/HamburgerManager/Validation_Dataset/FS_LostFound_full/images/26.png\n",
            "/content/HamburgerManager/Validation_Dataset/FS_LostFound_full/images/50.png\n",
            "/content/HamburgerManager/Validation_Dataset/FS_LostFound_full/images/88.png\n",
            "/content/HamburgerManager/Validation_Dataset/FS_LostFound_full/images/31.png\n",
            "/content/HamburgerManager/Validation_Dataset/FS_LostFound_full/images/70.png\n",
            "/content/HamburgerManager/Validation_Dataset/FS_LostFound_full/images/29.png\n",
            "/content/HamburgerManager/Validation_Dataset/FS_LostFound_full/images/78.png\n",
            "/content/HamburgerManager/Validation_Dataset/FS_LostFound_full/images/51.png\n",
            "/content/HamburgerManager/Validation_Dataset/FS_LostFound_full/images/20.png\n",
            "/content/HamburgerManager/Validation_Dataset/FS_LostFound_full/images/63.png\n",
            "/content/HamburgerManager/Validation_Dataset/FS_LostFound_full/images/83.png\n",
            "/content/HamburgerManager/Validation_Dataset/FS_LostFound_full/images/5.png\n",
            "/content/HamburgerManager/Validation_Dataset/FS_LostFound_full/images/22.png\n",
            "/content/HamburgerManager/Validation_Dataset/FS_LostFound_full/images/1.png\n",
            "/content/HamburgerManager/Validation_Dataset/FS_LostFound_full/images/43.png\n",
            "/content/HamburgerManager/Validation_Dataset/FS_LostFound_full/images/38.png\n",
            "/content/HamburgerManager/Validation_Dataset/FS_LostFound_full/images/64.png\n",
            "/content/HamburgerManager/Validation_Dataset/FS_LostFound_full/images/74.png\n",
            "/content/HamburgerManager/Validation_Dataset/FS_LostFound_full/images/17.png\n",
            "/content/HamburgerManager/Validation_Dataset/FS_LostFound_full/images/19.png\n",
            "/content/HamburgerManager/Validation_Dataset/FS_LostFound_full/images/79.png\n",
            "/content/HamburgerManager/Validation_Dataset/FS_LostFound_full/images/96.png\n",
            "/content/HamburgerManager/Validation_Dataset/FS_LostFound_full/images/3.png\n",
            "/content/HamburgerManager/Validation_Dataset/FS_LostFound_full/images/10.png\n",
            "/content/HamburgerManager/Validation_Dataset/FS_LostFound_full/images/30.png\n",
            "/content/HamburgerManager/Validation_Dataset/FS_LostFound_full/images/12.png\n",
            "/content/HamburgerManager/Validation_Dataset/FS_LostFound_full/images/44.png\n",
            "/content/HamburgerManager/Validation_Dataset/FS_LostFound_full/images/6.png\n",
            "/content/HamburgerManager/Validation_Dataset/FS_LostFound_full/images/49.png\n",
            "/content/HamburgerManager/Validation_Dataset/FS_LostFound_full/images/52.png\n",
            "/content/HamburgerManager/Validation_Dataset/FS_LostFound_full/images/13.png\n",
            "/content/HamburgerManager/Validation_Dataset/FS_LostFound_full/images/39.png\n",
            "/content/HamburgerManager/Validation_Dataset/FS_LostFound_full/images/57.png\n",
            "/content/HamburgerManager/Validation_Dataset/FS_LostFound_full/images/84.png\n",
            "/content/HamburgerManager/Validation_Dataset/FS_LostFound_full/images/25.png\n",
            "/content/HamburgerManager/Validation_Dataset/FS_LostFound_full/images/75.png\n",
            "/content/HamburgerManager/Validation_Dataset/FS_LostFound_full/images/87.png\n",
            "/content/HamburgerManager/Validation_Dataset/FS_LostFound_full/images/37.png\n",
            "/content/HamburgerManager/Validation_Dataset/FS_LostFound_full/images/8.png\n",
            "/content/HamburgerManager/Validation_Dataset/FS_LostFound_full/images/11.png\n",
            "/content/HamburgerManager/Validation_Dataset/FS_LostFound_full/images/7.png\n",
            "/content/HamburgerManager/Validation_Dataset/FS_LostFound_full/images/0.png\n",
            "/content/HamburgerManager/Validation_Dataset/FS_LostFound_full/images/90.png\n",
            "/content/HamburgerManager/Validation_Dataset/FS_LostFound_full/images/9.png\n",
            "/content/HamburgerManager/Validation_Dataset/FS_LostFound_full/images/80.png\n",
            "/content/HamburgerManager/Validation_Dataset/FS_LostFound_full/images/24.png\n",
            "/content/HamburgerManager/Validation_Dataset/FS_LostFound_full/images/33.png\n",
            "/content/HamburgerManager/Validation_Dataset/FS_LostFound_full/images/58.png\n",
            "/content/HamburgerManager/Validation_Dataset/FS_LostFound_full/images/21.png\n",
            "/content/HamburgerManager/Validation_Dataset/FS_LostFound_full/images/48.png\n",
            "/content/HamburgerManager/Validation_Dataset/FS_LostFound_full/images/69.png\n",
            "/content/HamburgerManager/Validation_Dataset/FS_LostFound_full/images/27.png\n",
            "/content/HamburgerManager/Validation_Dataset/FS_LostFound_full/images/59.png\n",
            "/content/HamburgerManager/Validation_Dataset/FS_LostFound_full/images/73.png\n",
            "/content/HamburgerManager/Validation_Dataset/FS_LostFound_full/images/2.png\n",
            "/content/HamburgerManager/Validation_Dataset/FS_LostFound_full/images/76.png\n",
            "/content/HamburgerManager/Validation_Dataset/FS_LostFound_full/images/82.png\n",
            "/content/HamburgerManager/Validation_Dataset/FS_LostFound_full/images/85.png\n",
            "/content/HamburgerManager/Validation_Dataset/FS_LostFound_full/images/72.png\n",
            "/content/HamburgerManager/Validation_Dataset/FS_LostFound_full/images/95.png\n",
            "/content/HamburgerManager/Validation_Dataset/FS_LostFound_full/images/28.png\n",
            "/content/HamburgerManager/Validation_Dataset/FS_LostFound_full/images/56.png\n",
            "/content/HamburgerManager/Validation_Dataset/FS_LostFound_full/images/40.png\n",
            "/content/HamburgerManager/Validation_Dataset/FS_LostFound_full/images/97.png\n",
            "/content/HamburgerManager/Validation_Dataset/FS_LostFound_full/images/41.png\n",
            "/content/HamburgerManager/Validation_Dataset/FS_LostFound_full/images/86.png\n",
            "/content/HamburgerManager/Validation_Dataset/FS_LostFound_full/images/60.png\n",
            "/content/HamburgerManager/Validation_Dataset/FS_LostFound_full/images/55.png\n",
            "/content/HamburgerManager/Validation_Dataset/FS_LostFound_full/images/34.png\n",
            "/content/HamburgerManager/Validation_Dataset/FS_LostFound_full/images/53.png\n",
            "/content/HamburgerManager/Validation_Dataset/FS_LostFound_full/images/42.png\n",
            "/content/HamburgerManager/Validation_Dataset/FS_LostFound_full/images/65.png\n",
            "/content/HamburgerManager/Validation_Dataset/FS_LostFound_full/images/68.png\n",
            "/content/HamburgerManager/Validation_Dataset/FS_LostFound_full/images/18.png\n",
            "/content/HamburgerManager/Validation_Dataset/FS_LostFound_full/images/77.png\n",
            "/content/HamburgerManager/Validation_Dataset/FS_LostFound_full/images/36.png\n",
            "/content/HamburgerManager/Validation_Dataset/FS_LostFound_full/images/16.png\n",
            "/content/HamburgerManager/Validation_Dataset/FS_LostFound_full/images/98.png\n",
            "/content/HamburgerManager/Validation_Dataset/FS_LostFound_full/images/47.png\n",
            "/content/HamburgerManager/Validation_Dataset/FS_LostFound_full/images/94.png\n",
            "AUPRC score: 0.28212519349349197\n",
            "FPR@TPR95: 94.57817254038142\n"
          ]
        }
      ]
    },
    {
      "cell_type": "markdown",
      "source": [
        "BisenetV2"
      ],
      "metadata": {
        "id": "gyEBbl47UPN8"
      }
    },
    {
      "cell_type": "code",
      "source": [
        "%run /content/HamburgerManager/eval/evalAnomaly.py --task 3 --model BisenetV2 --isColab --input /content/HamburgerManager/Validation_Dataset/fs_static/images --loadDir /content/HamburgerManager/ --loadWeights trained_models/task3/bisenetV2_pretrained_30.pth --loadModel eval/bisenetv2.py"
      ],
      "metadata": {
        "colab": {
          "base_uri": "https://localhost:8080/"
        },
        "id": "kj8_ikjFURMJ",
        "outputId": "d77c30d2-cd95-4d7e-d97d-82fbe4a1b51d"
      },
      "execution_count": 1,
      "outputs": [
        {
          "output_type": "stream",
          "name": "stdout",
          "text": [
            "Task:  3\n",
            "Method:  MaxLogit\n",
            "Dataset:  fs_static\n",
            "Loading model: /content/HamburgerManager/eval/bisenetv2.py\n",
            "Loading weights: /content/HamburgerManager/trained_models/task3/bisenetV2_pretrained_30.pth\n",
            "Model and weights LOADED successfully\n",
            "/content/HamburgerManager/Validation_Dataset/fs_static/images/27.jpg\n",
            "/content/HamburgerManager/Validation_Dataset/fs_static/images/22.jpg\n",
            "/content/HamburgerManager/Validation_Dataset/fs_static/images/28.jpg\n",
            "/content/HamburgerManager/Validation_Dataset/fs_static/images/10.jpg\n",
            "/content/HamburgerManager/Validation_Dataset/fs_static/images/7.jpg\n",
            "/content/HamburgerManager/Validation_Dataset/fs_static/images/1.jpg\n",
            "/content/HamburgerManager/Validation_Dataset/fs_static/images/11.jpg\n",
            "/content/HamburgerManager/Validation_Dataset/fs_static/images/29.jpg\n",
            "/content/HamburgerManager/Validation_Dataset/fs_static/images/26.jpg\n",
            "/content/HamburgerManager/Validation_Dataset/fs_static/images/4.jpg\n",
            "/content/HamburgerManager/Validation_Dataset/fs_static/images/8.jpg\n",
            "/content/HamburgerManager/Validation_Dataset/fs_static/images/0.jpg\n",
            "/content/HamburgerManager/Validation_Dataset/fs_static/images/23.jpg\n",
            "/content/HamburgerManager/Validation_Dataset/fs_static/images/13.jpg\n",
            "/content/HamburgerManager/Validation_Dataset/fs_static/images/24.jpg\n",
            "/content/HamburgerManager/Validation_Dataset/fs_static/images/19.jpg\n",
            "/content/HamburgerManager/Validation_Dataset/fs_static/images/5.jpg\n",
            "/content/HamburgerManager/Validation_Dataset/fs_static/images/15.jpg\n",
            "/content/HamburgerManager/Validation_Dataset/fs_static/images/16.jpg\n",
            "/content/HamburgerManager/Validation_Dataset/fs_static/images/20.jpg\n",
            "/content/HamburgerManager/Validation_Dataset/fs_static/images/12.jpg\n",
            "/content/HamburgerManager/Validation_Dataset/fs_static/images/9.jpg\n",
            "/content/HamburgerManager/Validation_Dataset/fs_static/images/3.jpg\n",
            "/content/HamburgerManager/Validation_Dataset/fs_static/images/14.jpg\n",
            "/content/HamburgerManager/Validation_Dataset/fs_static/images/6.jpg\n",
            "/content/HamburgerManager/Validation_Dataset/fs_static/images/25.jpg\n",
            "/content/HamburgerManager/Validation_Dataset/fs_static/images/18.jpg\n",
            "/content/HamburgerManager/Validation_Dataset/fs_static/images/2.jpg\n",
            "/content/HamburgerManager/Validation_Dataset/fs_static/images/17.jpg\n",
            "/content/HamburgerManager/Validation_Dataset/fs_static/images/21.jpg\n",
            "AUPRC score: 2.1136604145466515\n",
            "FPR@TPR95: 92.46306370159435\n"
          ]
        }
      ]
    },
    {
      "cell_type": "markdown",
      "source": [
        "mIoU"
      ],
      "metadata": {
        "id": "qzT--YfNo5zS"
      }
    },
    {
      "cell_type": "code",
      "execution_count": 1,
      "metadata": {
        "colab": {
          "base_uri": "https://localhost:8080/"
        },
        "outputId": "38b919b5-64bd-4ad4-f68d-28f7bd836659",
        "id": "GAx4p7A3o7pJ"
      },
      "outputs": [
        {
          "output_type": "stream",
          "name": "stdout",
          "text": [
            "Loading model: /content/HamburgerManager/eval/bisenetv2.py\n",
            "Loading weights: /content/HamburgerManager/trained_models/task3/bisenetV2_pretrained_30.pth\n",
            "Model and weights LOADED successfully\n",
            "/content/cityscapes/leftImg8bit/val /content/cityscapes/gtFine/val\n",
            "---------------------------------------\n",
            "Took  31.540345191955566 seconds\n",
            "=======================================\n",
            "Per-Class IoU:\n",
            "\u001b[0m80.7178\u001b[0m Road\n",
            "\u001b[0m25.2758\u001b[0m sidewalk\n",
            "\u001b[0m53.1342\u001b[0m building\n",
            "\u001b[0m2.3991\u001b[0m wall\n",
            "\u001b[0m10.9799\u001b[0m fence\n",
            "\u001b[0m6.8445\u001b[0m pole\n",
            "\u001b[0m0.0256\u001b[0m traffic light\n",
            "\u001b[0m2.6494\u001b[0m traffic sign\n",
            "\u001b[0m48.3171\u001b[0m vegetation\n",
            "\u001b[0m2.5008\u001b[0m terrain\n",
            "\u001b[0m40.9879\u001b[0m sky\n",
            "\u001b[0m16.5751\u001b[0m person\n",
            "\u001b[0m0.0000\u001b[0m rider\n",
            "\u001b[0m40.5128\u001b[0m car\n",
            "\u001b[0m0.0576\u001b[0m truck\n",
            "\u001b[0m0.2817\u001b[0m bus\n",
            "\u001b[0m0.0000\u001b[0m train\n",
            "\u001b[0m0.0000\u001b[0m motorcycle\n",
            "\u001b[0m2.2269\u001b[0m bicycle\n",
            "=======================================\n",
            "MEAN IoU:  \u001b[0m17.5519\u001b[0m %\n"
          ]
        }
      ],
      "source": [
        "%run /content/HamburgerManager/eval/eval_iou.py --task 3 --model BisenetV2 --datadir /content/cityscapes/ --loadDir /content/HamburgerManager/ --loadWeights trained_models/task3/bisenetV2_pretrained_30.pth --loadModel eval/bisenetv2.py --subset val"
      ]
    },
    {
      "cell_type": "code",
      "source": [
        "%run /content/HamburgerManager/eval/eval_iou.py --task 3 --model Erfnet --datadir /content/cityscapes/ --loadDir /content/HamburgerManager/ --loadWeights trained_models/task3/erfnet_pretrained_30.pth --loadModel eval/erfnet.py --subset val"
      ],
      "metadata": {
        "colab": {
          "base_uri": "https://localhost:8080/"
        },
        "id": "m7rrYdD5sDuX",
        "outputId": "3c028897-3a32-4f9d-df4a-3d2c54c15375"
      },
      "execution_count": 17,
      "outputs": [
        {
          "output_type": "stream",
          "name": "stdout",
          "text": [
            "Loading model: /content/HamburgerManager/eval/erfnet.py\n",
            "Loading weights: /content/HamburgerManager/trained_models/task3/erfnet_pretrained_30.pth\n",
            "Model and weights LOADED successfully\n",
            "/content/cityscapes/leftImg8bit/val /content/cityscapes/gtFine/val\n",
            "---------------------------------------\n",
            "Took  38.75752115249634 seconds\n",
            "=======================================\n",
            "Per-Class IoU:\n",
            "\u001b[0m80.9597\u001b[0m Road\n",
            "\u001b[0m35.8398\u001b[0m sidewalk\n",
            "\u001b[0m57.5313\u001b[0m building\n",
            "\u001b[0m2.4186\u001b[0m wall\n",
            "\u001b[0m9.5745\u001b[0m fence\n",
            "\u001b[0m12.5940\u001b[0m pole\n",
            "\u001b[0m0.0414\u001b[0m traffic light\n",
            "\u001b[0m3.3185\u001b[0m traffic sign\n",
            "\u001b[0m47.4672\u001b[0m vegetation\n",
            "\u001b[0m7.7743\u001b[0m terrain\n",
            "\u001b[0m51.8018\u001b[0m sky\n",
            "\u001b[0m29.9123\u001b[0m person\n",
            "\u001b[0m0.0028\u001b[0m rider\n",
            "\u001b[0m45.6828\u001b[0m car\n",
            "\u001b[0m3.4463\u001b[0m truck\n",
            "\u001b[0m3.3366\u001b[0m bus\n",
            "\u001b[0m3.5460\u001b[0m train\n",
            "\u001b[0m0.0000\u001b[0m motorcycle\n",
            "\u001b[0m15.2527\u001b[0m bicycle\n",
            "=======================================\n",
            "MEAN IoU:  \u001b[0m21.6053\u001b[0m %\n"
          ]
        }
      ]
    },
    {
      "cell_type": "code",
      "source": [
        "%run /content/HamburgerManager/eval/eval_iou.py --task 3 --model Enet --datadir /content/cityscapes/ --loadDir /content/HamburgerManager/ --loadWeights trained_models/task3/enet_pretrained_30.pth --loadModel eval/enet.py --subset val"
      ],
      "metadata": {
        "colab": {
          "base_uri": "https://localhost:8080/"
        },
        "id": "GzTcTZZwsQHR",
        "outputId": "4b0398b0-e285-4f70-b006-6cdba3a84881"
      },
      "execution_count": 18,
      "outputs": [
        {
          "output_type": "stream",
          "name": "stdout",
          "text": [
            "Loading model: /content/HamburgerManager/eval/enet.py\n",
            "Loading weights: /content/HamburgerManager/trained_models/task3/enet_pretrained_30.pth\n",
            "Model and weights LOADED successfully\n",
            "/content/cityscapes/leftImg8bit/val /content/cityscapes/gtFine/val\n",
            "---------------------------------------\n",
            "Took  33.40130925178528 seconds\n",
            "=======================================\n",
            "Per-Class IoU:\n",
            "\u001b[0m62.0833\u001b[0m Road\n",
            "\u001b[0m17.0697\u001b[0m sidewalk\n",
            "\u001b[0m37.9783\u001b[0m building\n",
            "\u001b[0m0.0980\u001b[0m wall\n",
            "\u001b[0m1.0073\u001b[0m fence\n",
            "\u001b[0m5.1790\u001b[0m pole\n",
            "\u001b[0m0.0000\u001b[0m traffic light\n",
            "\u001b[0m0.0812\u001b[0m traffic sign\n",
            "\u001b[0m19.7088\u001b[0m vegetation\n",
            "\u001b[0m0.9625\u001b[0m terrain\n",
            "\u001b[0m25.4059\u001b[0m sky\n",
            "\u001b[0m19.6512\u001b[0m person\n",
            "\u001b[0m0.0000\u001b[0m rider\n",
            "\u001b[0m37.7809\u001b[0m car\n",
            "\u001b[0m0.0000\u001b[0m truck\n",
            "\u001b[0m0.0000\u001b[0m bus\n",
            "\u001b[0m0.0000\u001b[0m train\n",
            "\u001b[0m0.0000\u001b[0m motorcycle\n",
            "\u001b[0m1.1515\u001b[0m bicycle\n",
            "=======================================\n",
            "MEAN IoU:  \u001b[0m12.0083\u001b[0m %\n"
          ]
        }
      ]
    },
    {
      "cell_type": "markdown",
      "source": [
        "## Task4"
      ],
      "metadata": {
        "id": "1tPE7z3vEvUF"
      }
    },
    {
      "cell_type": "code",
      "source": [
        "%run /content/HamburgerManager/eval/evalAnomaly.py --task 4  --isColab --input /content/HamburgerManager/Validation_Dataset/RoadAnomaly21/images --loadDir /content/HamburgerManager/ --loadWeights trained_models/task4/erfnet_pretrained_ce_30.pth"
      ],
      "metadata": {
        "colab": {
          "base_uri": "https://localhost:8080/"
        },
        "id": "fsFMwVvHEzuq",
        "outputId": "8f13fa57-202e-4ae6-fcde-092ae4b497ee"
      },
      "execution_count": 5,
      "outputs": [
        {
          "output_type": "stream",
          "name": "stdout",
          "text": [
            "Task:  4\n",
            "Method:  MaxLogit\n",
            "Dataset:  RoadAnomaly21\n",
            "Loading model: /content/HamburgerManager/eval/erfnet.py\n",
            "Loading weights: /content/HamburgerManager/trained_models/task4/erfnet_pretrained_ce_30.pth\n",
            "cur_epoch  not loaded\n",
            "best_score  not loaded\n",
            "state_dict  not loaded\n",
            "optimizer  not loaded\n",
            "scheduler  not loaded\n",
            "Model and weights LOADED successfully\n",
            "/content/HamburgerManager/Validation_Dataset/RoadAnomaly21/images/4.png\n",
            "/content/HamburgerManager/Validation_Dataset/RoadAnomaly21/images/5.png\n",
            "/content/HamburgerManager/Validation_Dataset/RoadAnomaly21/images/1.png\n",
            "/content/HamburgerManager/Validation_Dataset/RoadAnomaly21/images/3.png\n",
            "/content/HamburgerManager/Validation_Dataset/RoadAnomaly21/images/6.png\n",
            "/content/HamburgerManager/Validation_Dataset/RoadAnomaly21/images/8.png\n",
            "/content/HamburgerManager/Validation_Dataset/RoadAnomaly21/images/7.png\n",
            "/content/HamburgerManager/Validation_Dataset/RoadAnomaly21/images/0.png\n",
            "/content/HamburgerManager/Validation_Dataset/RoadAnomaly21/images/9.png\n",
            "/content/HamburgerManager/Validation_Dataset/RoadAnomaly21/images/2.png\n",
            "AUPRC score: 21.520772993552622\n",
            "FPR@TPR95: 90.54597105052368\n"
          ]
        }
      ]
    },
    {
      "cell_type": "markdown",
      "source": [
        "mIoU"
      ],
      "metadata": {
        "id": "3tvZHIW0tVOW"
      }
    },
    {
      "cell_type": "code",
      "source": [
        "%run /content/HamburgerManager/eval/eval_iou.py --task 4 --model Erfnet --datadir /content/cityscapes/ --loadDir /content/HamburgerManager/ --loadWeights trained_models/task4/erfnet_pretrained_fl_30.pth --loadModel eval/erfnet.py --subset val"
      ],
      "metadata": {
        "id": "EPDqXra_E3r6",
        "colab": {
          "base_uri": "https://localhost:8080/"
        },
        "outputId": "1a334b53-3f9b-4e9a-cfaf-505da73e045e"
      },
      "execution_count": 31,
      "outputs": [
        {
          "output_type": "stream",
          "name": "stdout",
          "text": [
            "Loading model: /content/HamburgerManager/eval/erfnet.py\n",
            "Loading weights: /content/HamburgerManager/trained_models/task4/erfnet_pretrained_fl_30.pth\n",
            "Model and weights LOADED successfully\n",
            "/content/cityscapes/leftImg8bit/val /content/cityscapes/gtFine/val\n",
            "---------------------------------------\n",
            "Took  38.43604111671448 seconds\n",
            "=======================================\n",
            "Per-Class IoU:\n",
            "\u001b[0m88.0341\u001b[0m Road\n",
            "\u001b[0m37.2627\u001b[0m sidewalk\n",
            "\u001b[0m59.4546\u001b[0m building\n",
            "\u001b[0m2.6800\u001b[0m wall\n",
            "\u001b[0m12.1178\u001b[0m fence\n",
            "\u001b[0m20.0717\u001b[0m pole\n",
            "\u001b[0m0.1510\u001b[0m traffic light\n",
            "\u001b[0m5.6140\u001b[0m traffic sign\n",
            "\u001b[0m45.3721\u001b[0m vegetation\n",
            "\u001b[0m4.7869\u001b[0m terrain\n",
            "\u001b[0m57.5675\u001b[0m sky\n",
            "\u001b[0m33.7806\u001b[0m person\n",
            "\u001b[0m0.0006\u001b[0m rider\n",
            "\u001b[0m58.3679\u001b[0m car\n",
            "\u001b[0m6.4844\u001b[0m truck\n",
            "\u001b[0m11.1327\u001b[0m bus\n",
            "\u001b[0m4.1850\u001b[0m train\n",
            "\u001b[0m0.0000\u001b[0m motorcycle\n",
            "\u001b[0m17.3759\u001b[0m bicycle\n",
            "=======================================\n",
            "MEAN IoU:  \u001b[0m24.4442\u001b[0m %\n"
          ]
        }
      ]
    }
  ],
  "metadata": {
    "accelerator": "GPU",
    "colab": {
      "provenance": [],
      "gpuType": "T4",
      "collapsed_sections": [
        "1oeZYWf2UABv",
        "pbEOF3M2rUEs"
      ],
      "machine_shape": "hm"
    },
    "kernelspec": {
      "display_name": "Python 3",
      "name": "python3"
    },
    "language_info": {
      "name": "python"
    }
  },
  "nbformat": 4,
  "nbformat_minor": 0
}